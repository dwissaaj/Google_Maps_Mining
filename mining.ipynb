{
 "cells": [
  {
   "cell_type": "code",
   "execution_count": 44,
   "metadata": {
    "collapsed": true
   },
   "outputs": [
    {
     "data": {
      "text/plain": "                                                user  rating         date  \\\n0  {'name': 'Brisia Jodie', 'link': 'https://www....     1.0  4 hari lalu   \n\n                                             summary  \\\n0  Kritis: Kualitas, Nilai, Profesionalisme, Resp...   \n\n                                             snippet  likes  \n0  Kritis: Kualitas, Nilai, Profesionalisme, Resp...    NaN  ",
      "text/html": "<div>\n<style scoped>\n    .dataframe tbody tr th:only-of-type {\n        vertical-align: middle;\n    }\n\n    .dataframe tbody tr th {\n        vertical-align: top;\n    }\n\n    .dataframe thead th {\n        text-align: right;\n    }\n</style>\n<table border=\"1\" class=\"dataframe\">\n  <thead>\n    <tr style=\"text-align: right;\">\n      <th></th>\n      <th>user</th>\n      <th>rating</th>\n      <th>date</th>\n      <th>summary</th>\n      <th>snippet</th>\n      <th>likes</th>\n    </tr>\n  </thead>\n  <tbody>\n    <tr>\n      <th>0</th>\n      <td>{'name': 'Brisia Jodie', 'link': 'https://www....</td>\n      <td>1.0</td>\n      <td>4 hari lalu</td>\n      <td>Kritis: Kualitas, Nilai, Profesionalisme, Resp...</td>\n      <td>Kritis: Kualitas, Nilai, Profesionalisme, Resp...</td>\n      <td>NaN</td>\n    </tr>\n  </tbody>\n</table>\n</div>"
     },
     "execution_count": 44,
     "metadata": {},
     "output_type": "execute_result"
    }
   ],
   "source": [
    "from serpapi import GoogleSearch\n",
    "import pandas as pd\n",
    "params = {\n",
    "  \"engine\": \"google_maps_reviews\",\n",
    "  \"data_id\": \"0x2e69f4c74527cc61:0x7ef4eb6425f59108\",\n",
    "    \"sort_by\":\"newestFirst\",\n",
    "    \"hl\":\"id\",\n",
    "  \"api_key\": \"1c33c59f4cb1d26dd31598098acc27c528873a12c11c0f583d6cdcfec5fa6d1d\"\n",
    "}\n",
    "\n",
    "search = GoogleSearch(params)\n",
    "results = search.get_dict()\n",
    "reviews = results['reviews']\n",
    "token = results[\"serpapi_pagination\"][\"next_page_token\"]\n",
    "data = pd.DataFrame(reviews)\n",
    "data.head(1)\n",
    "\n"
   ]
  },
  {
   "cell_type": "code",
   "execution_count": 45,
   "outputs": [
    {
     "name": "stdout",
     "output_type": "stream",
     "text": [
      "EgIICg\n"
     ]
    }
   ],
   "source": [
    "print(results[\"serpapi_pagination\"][\"next_page_token\"])"
   ],
   "metadata": {
    "collapsed": false,
    "pycharm": {
     "name": "#%%\n"
    }
   }
  },
  {
   "cell_type": "code",
   "execution_count": 46,
   "outputs": [
    {
     "data": {
      "text/plain": "                                                user  rating          date  \\\n0  {'name': 'rizky septian', 'link': 'https://www...     1.0  sebulan lalu   \n\n                                             snippet  likes images  \n0  Kalau bisa kasih nilai minus 5, akan dengan se...    1.0    NaN  ",
      "text/html": "<div>\n<style scoped>\n    .dataframe tbody tr th:only-of-type {\n        vertical-align: middle;\n    }\n\n    .dataframe tbody tr th {\n        vertical-align: top;\n    }\n\n    .dataframe thead th {\n        text-align: right;\n    }\n</style>\n<table border=\"1\" class=\"dataframe\">\n  <thead>\n    <tr style=\"text-align: right;\">\n      <th></th>\n      <th>user</th>\n      <th>rating</th>\n      <th>date</th>\n      <th>snippet</th>\n      <th>likes</th>\n      <th>images</th>\n    </tr>\n  </thead>\n  <tbody>\n    <tr>\n      <th>0</th>\n      <td>{'name': 'rizky septian', 'link': 'https://www...</td>\n      <td>1.0</td>\n      <td>sebulan lalu</td>\n      <td>Kalau bisa kasih nilai minus 5, akan dengan se...</td>\n      <td>1.0</td>\n      <td>NaN</td>\n    </tr>\n  </tbody>\n</table>\n</div>"
     },
     "execution_count": 46,
     "metadata": {},
     "output_type": "execute_result"
    }
   ],
   "source": [
    "params = {\n",
    "  \"engine\": \"google_maps_reviews\",\n",
    "  \"data_id\": \"0x2e69f5cf57f221d7:0x312d7e4c1ca898e0\",\n",
    "    \"sort_by\":\"newestFirst\",\n",
    "    \"hl\":\"id\",\n",
    "    \"next_page_token\":\"EgIICg\",\n",
    "  \"api_key\": \"1c33c59f4cb1d26dd31598098acc27c528873a12c11c0f583d6cdcfec5fa6d1d\"\n",
    "}\n",
    "\n",
    "search1 = GoogleSearch(params)\n",
    "results1 = search1.get_dict()\n",
    "reviews1 = results1['reviews']\n",
    "data1 = pd.DataFrame(reviews1)\n",
    "data1.head(1)"
   ],
   "metadata": {
    "collapsed": false,
    "pycharm": {
     "name": "#%%\n"
    }
   }
  },
  {
   "cell_type": "code",
   "execution_count": 47,
   "outputs": [
    {
     "name": "stdout",
     "output_type": "stream",
     "text": [
      "EgIIFA\n"
     ]
    }
   ],
   "source": [
    "print(results1[\"serpapi_pagination\"][\"next_page_token\"])"
   ],
   "metadata": {
    "collapsed": false,
    "pycharm": {
     "name": "#%%\n"
    }
   }
  },
  {
   "cell_type": "code",
   "execution_count": 48,
   "outputs": [
    {
     "data": {
      "text/plain": "                                                user  rating          date  \\\n0  {'name': 'Mohammad Afif', 'link': 'https://www...     1.0  3 bulan lalu   \n\n                                             snippet  likes images  \n0  Sistem bobrok amburadul wajar lah kalah sama s...    1.0    NaN  ",
      "text/html": "<div>\n<style scoped>\n    .dataframe tbody tr th:only-of-type {\n        vertical-align: middle;\n    }\n\n    .dataframe tbody tr th {\n        vertical-align: top;\n    }\n\n    .dataframe thead th {\n        text-align: right;\n    }\n</style>\n<table border=\"1\" class=\"dataframe\">\n  <thead>\n    <tr style=\"text-align: right;\">\n      <th></th>\n      <th>user</th>\n      <th>rating</th>\n      <th>date</th>\n      <th>snippet</th>\n      <th>likes</th>\n      <th>images</th>\n    </tr>\n  </thead>\n  <tbody>\n    <tr>\n      <th>0</th>\n      <td>{'name': 'Mohammad Afif', 'link': 'https://www...</td>\n      <td>1.0</td>\n      <td>3 bulan lalu</td>\n      <td>Sistem bobrok amburadul wajar lah kalah sama s...</td>\n      <td>1.0</td>\n      <td>NaN</td>\n    </tr>\n  </tbody>\n</table>\n</div>"
     },
     "execution_count": 48,
     "metadata": {},
     "output_type": "execute_result"
    }
   ],
   "source": [
    "params = {\n",
    "  \"engine\": \"google_maps_reviews\",\n",
    "  \"data_id\": \"0x2e69f5cf57f221d7:0x312d7e4c1ca898e0\",\n",
    "    \"sort_by\":\"newestFirst\",\n",
    "    \"hl\":\"id\",\n",
    "    \"next_page_token\":\"EgIIFA\",\n",
    "  \"api_key\": \"1c33c59f4cb1d26dd31598098acc27c528873a12c11c0f583d6cdcfec5fa6d1d\"\n",
    "}\n",
    "\n",
    "search2 = GoogleSearch(params)\n",
    "results2 = search2.get_dict()\n",
    "reviews2 = results2['reviews']\n",
    "data2 = pd.DataFrame(reviews2)\n",
    "data2.head(1)\n"
   ],
   "metadata": {
    "collapsed": false,
    "pycharm": {
     "name": "#%%\n"
    }
   }
  },
  {
   "cell_type": "code",
   "execution_count": 49,
   "outputs": [
    {
     "name": "stdout",
     "output_type": "stream",
     "text": [
      "EgIIHg\n"
     ]
    }
   ],
   "source": [
    "print(results2[\"serpapi_pagination\"][\"next_page_token\"])\n"
   ],
   "metadata": {
    "collapsed": false,
    "pycharm": {
     "name": "#%%\n"
    }
   }
  },
  {
   "cell_type": "code",
   "execution_count": 50,
   "outputs": [
    {
     "data": {
      "text/plain": "                                                user  rating          date  \\\n0  {'name': 'Yusuf Agil', 'link': 'https://www.go...     5.0  4 bulan lalu   \n\n                                             snippet images  likes  \n0  (Diterjemahkan oleh Google) Kualitas Profesion...    NaN    NaN  ",
      "text/html": "<div>\n<style scoped>\n    .dataframe tbody tr th:only-of-type {\n        vertical-align: middle;\n    }\n\n    .dataframe tbody tr th {\n        vertical-align: top;\n    }\n\n    .dataframe thead th {\n        text-align: right;\n    }\n</style>\n<table border=\"1\" class=\"dataframe\">\n  <thead>\n    <tr style=\"text-align: right;\">\n      <th></th>\n      <th>user</th>\n      <th>rating</th>\n      <th>date</th>\n      <th>snippet</th>\n      <th>images</th>\n      <th>likes</th>\n    </tr>\n  </thead>\n  <tbody>\n    <tr>\n      <th>0</th>\n      <td>{'name': 'Yusuf Agil', 'link': 'https://www.go...</td>\n      <td>5.0</td>\n      <td>4 bulan lalu</td>\n      <td>(Diterjemahkan oleh Google) Kualitas Profesion...</td>\n      <td>NaN</td>\n      <td>NaN</td>\n    </tr>\n  </tbody>\n</table>\n</div>"
     },
     "execution_count": 50,
     "metadata": {},
     "output_type": "execute_result"
    }
   ],
   "source": [
    "params = {\n",
    "  \"engine\": \"google_maps_reviews\",\n",
    "  \"data_id\": \"0x2e69f5cf57f221d7:0x312d7e4c1ca898e0\",\n",
    "    \"sort_by\":\"newestFirst\",\n",
    "    \"hl\":\"id\",\n",
    "    \"next_page_token\":\"EgIIHg\",\n",
    "  \"api_key\": \"1c33c59f4cb1d26dd31598098acc27c528873a12c11c0f583d6cdcfec5fa6d1d\"\n",
    "}\n",
    "\n",
    "search3 = GoogleSearch(params)\n",
    "results3 = search3.get_dict()\n",
    "reviews3 = results3['reviews']\n",
    "data3 = pd.DataFrame(reviews3)\n",
    "data3.head(1)\n",
    "\n"
   ],
   "metadata": {
    "collapsed": false,
    "pycharm": {
     "name": "#%%\n"
    }
   }
  },
  {
   "cell_type": "code",
   "execution_count": 51,
   "outputs": [
    {
     "name": "stdout",
     "output_type": "stream",
     "text": [
      "EgIIKA\n"
     ]
    }
   ],
   "source": [
    "print(results3[\"serpapi_pagination\"][\"next_page_token\"])"
   ],
   "metadata": {
    "collapsed": false,
    "pycharm": {
     "name": "#%%\n"
    }
   }
  },
  {
   "cell_type": "code",
   "execution_count": 52,
   "outputs": [
    {
     "data": {
      "text/plain": "                                                user  rating          date  \\\n0  {'name': 'AROR SAJA', 'link': 'https://www.goo...     5.0  4 bulan lalu   \n\n                                             snippet  \\\n0  Inilah pos indonesia pusat..ramah sangat jelas...   \n\n                                              images  likes  \n0  [https://lh5.googleusercontent.com/p/AF1QipOLe...    NaN  ",
      "text/html": "<div>\n<style scoped>\n    .dataframe tbody tr th:only-of-type {\n        vertical-align: middle;\n    }\n\n    .dataframe tbody tr th {\n        vertical-align: top;\n    }\n\n    .dataframe thead th {\n        text-align: right;\n    }\n</style>\n<table border=\"1\" class=\"dataframe\">\n  <thead>\n    <tr style=\"text-align: right;\">\n      <th></th>\n      <th>user</th>\n      <th>rating</th>\n      <th>date</th>\n      <th>snippet</th>\n      <th>images</th>\n      <th>likes</th>\n    </tr>\n  </thead>\n  <tbody>\n    <tr>\n      <th>0</th>\n      <td>{'name': 'AROR SAJA', 'link': 'https://www.goo...</td>\n      <td>5.0</td>\n      <td>4 bulan lalu</td>\n      <td>Inilah pos indonesia pusat..ramah sangat jelas...</td>\n      <td>[https://lh5.googleusercontent.com/p/AF1QipOLe...</td>\n      <td>NaN</td>\n    </tr>\n  </tbody>\n</table>\n</div>"
     },
     "execution_count": 52,
     "metadata": {},
     "output_type": "execute_result"
    }
   ],
   "source": [
    "params = {\n",
    "  \"engine\": \"google_maps_reviews\",\n",
    "  \"data_id\": \"0x2e69f5cf57f221d7:0x312d7e4c1ca898e0\",\n",
    "    \"sort_by\":\"newestFirst\",\n",
    "    \"hl\":\"id\",\n",
    "    \"next_page_token\":\"EgIIKA\",\n",
    "  \"api_key\": \"1c33c59f4cb1d26dd31598098acc27c528873a12c11c0f583d6cdcfec5fa6d1d\"\n",
    "}\n",
    "\n",
    "search4 = GoogleSearch(params)\n",
    "results4 = search4.get_dict()\n",
    "reviews4 = results4['reviews']\n",
    "data4 = pd.DataFrame(reviews4)\n",
    "data4.head(1)"
   ],
   "metadata": {
    "collapsed": false,
    "pycharm": {
     "name": "#%%\n"
    }
   }
  },
  {
   "cell_type": "code",
   "execution_count": 53,
   "outputs": [
    {
     "name": "stdout",
     "output_type": "stream",
     "text": [
      "EgIIMg\n"
     ]
    }
   ],
   "source": [
    "print(results4[\"serpapi_pagination\"][\"next_page_token\"])"
   ],
   "metadata": {
    "collapsed": false,
    "pycharm": {
     "name": "#%%\n"
    }
   }
  },
  {
   "cell_type": "code",
   "execution_count": 54,
   "outputs": [
    {
     "data": {
      "text/plain": "                                                user  rating          date  \\\n0  {'name': 'Harun Sugiri', 'link': 'https://www....     5.0  5 bulan lalu   \n\n                                   snippet  likes  \n0  (Diterjemahkan oleh Google) Oke(Asli)Ok    NaN  ",
      "text/html": "<div>\n<style scoped>\n    .dataframe tbody tr th:only-of-type {\n        vertical-align: middle;\n    }\n\n    .dataframe tbody tr th {\n        vertical-align: top;\n    }\n\n    .dataframe thead th {\n        text-align: right;\n    }\n</style>\n<table border=\"1\" class=\"dataframe\">\n  <thead>\n    <tr style=\"text-align: right;\">\n      <th></th>\n      <th>user</th>\n      <th>rating</th>\n      <th>date</th>\n      <th>snippet</th>\n      <th>likes</th>\n    </tr>\n  </thead>\n  <tbody>\n    <tr>\n      <th>0</th>\n      <td>{'name': 'Harun Sugiri', 'link': 'https://www....</td>\n      <td>5.0</td>\n      <td>5 bulan lalu</td>\n      <td>(Diterjemahkan oleh Google) Oke(Asli)Ok</td>\n      <td>NaN</td>\n    </tr>\n  </tbody>\n</table>\n</div>"
     },
     "execution_count": 54,
     "metadata": {},
     "output_type": "execute_result"
    }
   ],
   "source": [
    "params = {\n",
    "  \"engine\": \"google_maps_reviews\",\n",
    "  \"data_id\": \"0x2e69f5cf57f221d7:0x312d7e4c1ca898e0\",\n",
    "    \"sort_by\":\"newestFirst\",\n",
    "    \"hl\":\"id\",\n",
    "    \"next_page_token\":\"EgIIMg\",\n",
    "  \"api_key\": \"1c33c59f4cb1d26dd31598098acc27c528873a12c11c0f583d6cdcfec5fa6d1d\"\n",
    "}\n",
    "\n",
    "search5 = GoogleSearch(params)\n",
    "results5 = search5.get_dict()\n",
    "reviews5 = results5['reviews']\n",
    "data5 = pd.DataFrame(reviews5)\n",
    "data5.head(1)"
   ],
   "metadata": {
    "collapsed": false,
    "pycharm": {
     "name": "#%%\n"
    }
   }
  },
  {
   "cell_type": "code",
   "execution_count": 55,
   "outputs": [
    {
     "name": "stdout",
     "output_type": "stream",
     "text": [
      "EgIIPA\n"
     ]
    }
   ],
   "source": [
    "print(results5[\"serpapi_pagination\"][\"next_page_token\"])"
   ],
   "metadata": {
    "collapsed": false,
    "pycharm": {
     "name": "#%%\n"
    }
   }
  },
  {
   "cell_type": "code",
   "execution_count": 56,
   "outputs": [
    {
     "data": {
      "text/plain": "                                                user  rating          date  \\\n0  {'name': 'Nenti Sandi', 'link': 'https://www.g...     1.0  6 bulan lalu   \n\n                                             snippet  likes images  \n0  Kecewa layanan pengiriman etilang hampir sebul...    NaN    NaN  ",
      "text/html": "<div>\n<style scoped>\n    .dataframe tbody tr th:only-of-type {\n        vertical-align: middle;\n    }\n\n    .dataframe tbody tr th {\n        vertical-align: top;\n    }\n\n    .dataframe thead th {\n        text-align: right;\n    }\n</style>\n<table border=\"1\" class=\"dataframe\">\n  <thead>\n    <tr style=\"text-align: right;\">\n      <th></th>\n      <th>user</th>\n      <th>rating</th>\n      <th>date</th>\n      <th>snippet</th>\n      <th>likes</th>\n      <th>images</th>\n    </tr>\n  </thead>\n  <tbody>\n    <tr>\n      <th>0</th>\n      <td>{'name': 'Nenti Sandi', 'link': 'https://www.g...</td>\n      <td>1.0</td>\n      <td>6 bulan lalu</td>\n      <td>Kecewa layanan pengiriman etilang hampir sebul...</td>\n      <td>NaN</td>\n      <td>NaN</td>\n    </tr>\n  </tbody>\n</table>\n</div>"
     },
     "execution_count": 56,
     "metadata": {},
     "output_type": "execute_result"
    }
   ],
   "source": [
    "params = {\n",
    "  \"engine\": \"google_maps_reviews\",\n",
    "  \"data_id\": \"0x2e69f5cf57f221d7:0x312d7e4c1ca898e0\",\n",
    "    \"sort_by\":\"newestFirst\",\n",
    "    \"hl\":\"id\",\n",
    "    \"next_page_token\":\"EgIIPA\",\n",
    "  \"api_key\": \"1c33c59f4cb1d26dd31598098acc27c528873a12c11c0f583d6cdcfec5fa6d1d\"\n",
    "}\n",
    "\n",
    "search6 = GoogleSearch(params)\n",
    "results6 = search6.get_dict()\n",
    "reviews6 = results6['reviews']\n",
    "data6 = pd.DataFrame(reviews6)\n",
    "data6.head(1)"
   ],
   "metadata": {
    "collapsed": false,
    "pycharm": {
     "name": "#%%\n"
    }
   }
  },
  {
   "cell_type": "code",
   "execution_count": 57,
   "outputs": [
    {
     "name": "stdout",
     "output_type": "stream",
     "text": [
      "EgIIRg\n"
     ]
    }
   ],
   "source": [
    "print(results6[\"serpapi_pagination\"][\"next_page_token\"])\n"
   ],
   "metadata": {
    "collapsed": false,
    "pycharm": {
     "name": "#%%\n"
    }
   }
  },
  {
   "cell_type": "code",
   "execution_count": 58,
   "outputs": [
    {
     "data": {
      "text/plain": "                                                user  rating          date  \\\n0  {'name': 'ita utamiwati', 'link': 'https://www...     1.0  7 bulan lalu   \n\n                                             snippet  likes images  \n0  (Diterjemahkan oleh Google) Layanan telepon ya...    8.0    NaN  ",
      "text/html": "<div>\n<style scoped>\n    .dataframe tbody tr th:only-of-type {\n        vertical-align: middle;\n    }\n\n    .dataframe tbody tr th {\n        vertical-align: top;\n    }\n\n    .dataframe thead th {\n        text-align: right;\n    }\n</style>\n<table border=\"1\" class=\"dataframe\">\n  <thead>\n    <tr style=\"text-align: right;\">\n      <th></th>\n      <th>user</th>\n      <th>rating</th>\n      <th>date</th>\n      <th>snippet</th>\n      <th>likes</th>\n      <th>images</th>\n    </tr>\n  </thead>\n  <tbody>\n    <tr>\n      <th>0</th>\n      <td>{'name': 'ita utamiwati', 'link': 'https://www...</td>\n      <td>1.0</td>\n      <td>7 bulan lalu</td>\n      <td>(Diterjemahkan oleh Google) Layanan telepon ya...</td>\n      <td>8.0</td>\n      <td>NaN</td>\n    </tr>\n  </tbody>\n</table>\n</div>"
     },
     "execution_count": 58,
     "metadata": {},
     "output_type": "execute_result"
    }
   ],
   "source": [
    "params = {\n",
    "  \"engine\": \"google_maps_reviews\",\n",
    "  \"data_id\": \"0x2e69f5cf57f221d7:0x312d7e4c1ca898e0\",\n",
    "    \"sort_by\":\"newestFirst\",\n",
    "    \"hl\":\"id\",\n",
    "    \"next_page_token\":\"EgIIRg\",\n",
    "  \"api_key\": \"1c33c59f4cb1d26dd31598098acc27c528873a12c11c0f583d6cdcfec5fa6d1d\"\n",
    "}\n",
    "\n",
    "search7 = GoogleSearch(params)\n",
    "results7 = search7.get_dict()\n",
    "reviews7 = results7['reviews']\n",
    "data7 = pd.DataFrame(reviews7)\n",
    "data7.head(1)"
   ],
   "metadata": {
    "collapsed": false,
    "pycharm": {
     "name": "#%%\n"
    }
   }
  },
  {
   "cell_type": "code",
   "execution_count": 59,
   "outputs": [
    {
     "name": "stdout",
     "output_type": "stream",
     "text": [
      "EgIIUA\n"
     ]
    }
   ],
   "source": [
    "print(results7[\"serpapi_pagination\"][\"next_page_token\"])"
   ],
   "metadata": {
    "collapsed": false,
    "pycharm": {
     "name": "#%%\n"
    }
   }
  },
  {
   "cell_type": "code",
   "execution_count": 60,
   "outputs": [
    {
     "data": {
      "text/plain": "                                                user  rating          date  \\\n0  {'name': 'mangara silaban', 'link': 'https://w...     2.0  8 bulan lalu   \n\n              snippet  likes  \n0  Pelayanannya lama!    NaN  ",
      "text/html": "<div>\n<style scoped>\n    .dataframe tbody tr th:only-of-type {\n        vertical-align: middle;\n    }\n\n    .dataframe tbody tr th {\n        vertical-align: top;\n    }\n\n    .dataframe thead th {\n        text-align: right;\n    }\n</style>\n<table border=\"1\" class=\"dataframe\">\n  <thead>\n    <tr style=\"text-align: right;\">\n      <th></th>\n      <th>user</th>\n      <th>rating</th>\n      <th>date</th>\n      <th>snippet</th>\n      <th>likes</th>\n    </tr>\n  </thead>\n  <tbody>\n    <tr>\n      <th>0</th>\n      <td>{'name': 'mangara silaban', 'link': 'https://w...</td>\n      <td>2.0</td>\n      <td>8 bulan lalu</td>\n      <td>Pelayanannya lama!</td>\n      <td>NaN</td>\n    </tr>\n  </tbody>\n</table>\n</div>"
     },
     "execution_count": 60,
     "metadata": {},
     "output_type": "execute_result"
    }
   ],
   "source": [
    "params = {\n",
    "  \"engine\": \"google_maps_reviews\",\n",
    "  \"data_id\": \"0x2e69f5cf57f221d7:0x312d7e4c1ca898e0\",\n",
    "    \"sort_by\":\"newestFirst\",\n",
    "    \"hl\":\"id\",\n",
    "    \"next_page_token\":\"EgIIUA\",\n",
    "  \"api_key\": \"1c33c59f4cb1d26dd31598098acc27c528873a12c11c0f583d6cdcfec5fa6d1d\"\n",
    "}\n",
    "\n",
    "search8 = GoogleSearch(params)\n",
    "results8 = search8.get_dict()\n",
    "reviews8 = results8['reviews']\n",
    "data8 = pd.DataFrame(reviews8)\n",
    "data8.head(1)\n"
   ],
   "metadata": {
    "collapsed": false,
    "pycharm": {
     "name": "#%%\n"
    }
   }
  },
  {
   "cell_type": "code",
   "execution_count": 61,
   "outputs": [
    {
     "name": "stdout",
     "output_type": "stream",
     "text": [
      "EgIIWg\n"
     ]
    }
   ],
   "source": [
    "print(results8[\"serpapi_pagination\"][\"next_page_token\"])"
   ],
   "metadata": {
    "collapsed": false,
    "pycharm": {
     "name": "#%%\n"
    }
   }
  },
  {
   "cell_type": "code",
   "execution_count": 62,
   "outputs": [
    {
     "data": {
      "text/plain": "                                                user  rating          date  \\\n0  {'name': 'R Berlian Dhuhara', 'link': 'https:/...     5.0  9 bulan lalu   \n\n                                snippet  likes images  \n0  Bagus pelayanan ok kebersihan mantap    NaN    NaN  ",
      "text/html": "<div>\n<style scoped>\n    .dataframe tbody tr th:only-of-type {\n        vertical-align: middle;\n    }\n\n    .dataframe tbody tr th {\n        vertical-align: top;\n    }\n\n    .dataframe thead th {\n        text-align: right;\n    }\n</style>\n<table border=\"1\" class=\"dataframe\">\n  <thead>\n    <tr style=\"text-align: right;\">\n      <th></th>\n      <th>user</th>\n      <th>rating</th>\n      <th>date</th>\n      <th>snippet</th>\n      <th>likes</th>\n      <th>images</th>\n    </tr>\n  </thead>\n  <tbody>\n    <tr>\n      <th>0</th>\n      <td>{'name': 'R Berlian Dhuhara', 'link': 'https:/...</td>\n      <td>5.0</td>\n      <td>9 bulan lalu</td>\n      <td>Bagus pelayanan ok kebersihan mantap</td>\n      <td>NaN</td>\n      <td>NaN</td>\n    </tr>\n  </tbody>\n</table>\n</div>"
     },
     "execution_count": 62,
     "metadata": {},
     "output_type": "execute_result"
    }
   ],
   "source": [
    "params = {\n",
    "  \"engine\": \"google_maps_reviews\",\n",
    "  \"data_id\": \"0x2e69f5cf57f221d7:0x312d7e4c1ca898e0\",\n",
    "    \"sort_by\":\"newestFirst\",\n",
    "    \"hl\":\"id\",\n",
    "    \"next_page_token\":\"EgIIWg\",\n",
    "  \"api_key\": \"1c33c59f4cb1d26dd31598098acc27c528873a12c11c0f583d6cdcfec5fa6d1d\"\n",
    "}\n",
    "\n",
    "search9 = GoogleSearch(params)\n",
    "results9 = search9.get_dict()\n",
    "reviews9 = results9['reviews']\n",
    "data9 = pd.DataFrame(reviews9)\n",
    "data9.head(1)\n"
   ],
   "metadata": {
    "collapsed": false,
    "pycharm": {
     "name": "#%%\n"
    }
   }
  },
  {
   "cell_type": "code",
   "execution_count": 63,
   "outputs": [
    {
     "name": "stdout",
     "output_type": "stream",
     "text": [
      "EgIIZA\n"
     ]
    }
   ],
   "source": [
    "print(results9[\"serpapi_pagination\"][\"next_page_token\"])"
   ],
   "metadata": {
    "collapsed": false,
    "pycharm": {
     "name": "#%%\n"
    }
   }
  },
  {
   "cell_type": "code",
   "execution_count": 64,
   "outputs": [
    {
     "data": {
      "text/plain": "                                                user  rating          date  \\\n0  {'name': 'moch nurhadi', 'link': 'https://www....     1.0  9 bulan lalu   \n\n                                             snippet  likes  \n0  lama lama lama boskuCE436041921DECY285608069DE...    NaN  ",
      "text/html": "<div>\n<style scoped>\n    .dataframe tbody tr th:only-of-type {\n        vertical-align: middle;\n    }\n\n    .dataframe tbody tr th {\n        vertical-align: top;\n    }\n\n    .dataframe thead th {\n        text-align: right;\n    }\n</style>\n<table border=\"1\" class=\"dataframe\">\n  <thead>\n    <tr style=\"text-align: right;\">\n      <th></th>\n      <th>user</th>\n      <th>rating</th>\n      <th>date</th>\n      <th>snippet</th>\n      <th>likes</th>\n    </tr>\n  </thead>\n  <tbody>\n    <tr>\n      <th>0</th>\n      <td>{'name': 'moch nurhadi', 'link': 'https://www....</td>\n      <td>1.0</td>\n      <td>9 bulan lalu</td>\n      <td>lama lama lama boskuCE436041921DECY285608069DE...</td>\n      <td>NaN</td>\n    </tr>\n  </tbody>\n</table>\n</div>"
     },
     "execution_count": 64,
     "metadata": {},
     "output_type": "execute_result"
    }
   ],
   "source": [
    "params = {\n",
    "  \"engine\": \"google_maps_reviews\",\n",
    "  \"data_id\": \"0x2e69f5cf57f221d7:0x312d7e4c1ca898e0\",\n",
    "    \"sort_by\":\"newestFirst\",\n",
    "    \"hl\":\"id\",\n",
    "    \"next_page_token\":\"EgIIZA\",\n",
    "  \"api_key\": \"1c33c59f4cb1d26dd31598098acc27c528873a12c11c0f583d6cdcfec5fa6d1d\"\n",
    "}\n",
    "\n",
    "search10 = GoogleSearch(params)\n",
    "results10 = search10.get_dict()\n",
    "reviews10 = results10['reviews']\n",
    "data10 = pd.DataFrame(reviews10)\n",
    "data10.head(1)\n"
   ],
   "metadata": {
    "collapsed": false,
    "pycharm": {
     "name": "#%%\n"
    }
   }
  },
  {
   "cell_type": "code",
   "execution_count": 65,
   "outputs": [
    {
     "name": "stdout",
     "output_type": "stream",
     "text": [
      "EgIIbg\n"
     ]
    }
   ],
   "source": [
    "print(results10[\"serpapi_pagination\"][\"next_page_token\"])\n"
   ],
   "metadata": {
    "collapsed": false,
    "pycharm": {
     "name": "#%%\n"
    }
   }
  },
  {
   "cell_type": "code",
   "execution_count": 66,
   "outputs": [
    {
     "data": {
      "text/plain": "                                                user  rating           date  \\\n0  {'name': 'Yuliana sri', 'link': 'https://www.g...     5.0  10 bulan lalu   \n\n                                             snippet  likes images  \n0  Tempatnya mudah di cari, areanya luas..karyawa...    NaN    NaN  ",
      "text/html": "<div>\n<style scoped>\n    .dataframe tbody tr th:only-of-type {\n        vertical-align: middle;\n    }\n\n    .dataframe tbody tr th {\n        vertical-align: top;\n    }\n\n    .dataframe thead th {\n        text-align: right;\n    }\n</style>\n<table border=\"1\" class=\"dataframe\">\n  <thead>\n    <tr style=\"text-align: right;\">\n      <th></th>\n      <th>user</th>\n      <th>rating</th>\n      <th>date</th>\n      <th>snippet</th>\n      <th>likes</th>\n      <th>images</th>\n    </tr>\n  </thead>\n  <tbody>\n    <tr>\n      <th>0</th>\n      <td>{'name': 'Yuliana sri', 'link': 'https://www.g...</td>\n      <td>5.0</td>\n      <td>10 bulan lalu</td>\n      <td>Tempatnya mudah di cari, areanya luas..karyawa...</td>\n      <td>NaN</td>\n      <td>NaN</td>\n    </tr>\n  </tbody>\n</table>\n</div>"
     },
     "execution_count": 66,
     "metadata": {},
     "output_type": "execute_result"
    }
   ],
   "source": [
    "params = {\n",
    "  \"engine\": \"google_maps_reviews\",\n",
    "  \"data_id\": \"0x2e69f5cf57f221d7:0x312d7e4c1ca898e0\",\n",
    "    \"sort_by\":\"newestFirst\",\n",
    "    \"hl\":\"id\",\n",
    "    \"next_page_token\":\"EgIIbg\",\n",
    "  \"api_key\": \"1c33c59f4cb1d26dd31598098acc27c528873a12c11c0f583d6cdcfec5fa6d1d\"\n",
    "}\n",
    "\n",
    "search11 = GoogleSearch(params)\n",
    "results11 = search11.get_dict()\n",
    "reviews11 = results11['reviews']\n",
    "data11 = pd.DataFrame(reviews11)\n",
    "data11.head(1)\n"
   ],
   "metadata": {
    "collapsed": false,
    "pycharm": {
     "name": "#%%\n"
    }
   }
  },
  {
   "cell_type": "code",
   "execution_count": 67,
   "outputs": [
    {
     "name": "stdout",
     "output_type": "stream",
     "text": [
      "EgIIeA\n"
     ]
    }
   ],
   "source": [
    "print(results11[\"serpapi_pagination\"][\"next_page_token\"])"
   ],
   "metadata": {
    "collapsed": false,
    "pycharm": {
     "name": "#%%\n"
    }
   }
  },
  {
   "cell_type": "code",
   "execution_count": 68,
   "outputs": [
    {
     "data": {
      "text/plain": "                                                user  rating           date  \\\n0  {'name': 'Saul Japari', 'link': 'https://www.g...     1.0  11 bulan lalu   \n\n                                             snippet  likes  \n0  Selamat pagiSaya minta smpe skrng dr pihak lom...    1.0  ",
      "text/html": "<div>\n<style scoped>\n    .dataframe tbody tr th:only-of-type {\n        vertical-align: middle;\n    }\n\n    .dataframe tbody tr th {\n        vertical-align: top;\n    }\n\n    .dataframe thead th {\n        text-align: right;\n    }\n</style>\n<table border=\"1\" class=\"dataframe\">\n  <thead>\n    <tr style=\"text-align: right;\">\n      <th></th>\n      <th>user</th>\n      <th>rating</th>\n      <th>date</th>\n      <th>snippet</th>\n      <th>likes</th>\n    </tr>\n  </thead>\n  <tbody>\n    <tr>\n      <th>0</th>\n      <td>{'name': 'Saul Japari', 'link': 'https://www.g...</td>\n      <td>1.0</td>\n      <td>11 bulan lalu</td>\n      <td>Selamat pagiSaya minta smpe skrng dr pihak lom...</td>\n      <td>1.0</td>\n    </tr>\n  </tbody>\n</table>\n</div>"
     },
     "execution_count": 68,
     "metadata": {},
     "output_type": "execute_result"
    }
   ],
   "source": [
    "params = {\n",
    "  \"engine\": \"google_maps_reviews\",\n",
    "  \"data_id\": \"0x2e69f5cf57f221d7:0x312d7e4c1ca898e0\",\n",
    "    \"sort_by\":\"newestFirst\",\n",
    "    \"hl\":\"id\",\n",
    "    \"next_page_token\":\"EgIIeA\",\n",
    "  \"api_key\": \"1c33c59f4cb1d26dd31598098acc27c528873a12c11c0f583d6cdcfec5fa6d1d\"\n",
    "}\n",
    "\n",
    "search12 = GoogleSearch(params)\n",
    "results12 = search12.get_dict()\n",
    "reviews12 = results12['reviews']\n",
    "data12 = pd.DataFrame(reviews12)\n",
    "data12.head(1)\n"
   ],
   "metadata": {
    "collapsed": false,
    "pycharm": {
     "name": "#%%\n"
    }
   }
  },
  {
   "cell_type": "code",
   "execution_count": 69,
   "outputs": [
    {
     "name": "stdout",
     "output_type": "stream",
     "text": [
      "EgMIggE\n"
     ]
    }
   ],
   "source": [
    "print(results12[\"serpapi_pagination\"][\"next_page_token\"])\n"
   ],
   "metadata": {
    "collapsed": false,
    "pycharm": {
     "name": "#%%\n"
    }
   }
  },
  {
   "cell_type": "code",
   "execution_count": 70,
   "outputs": [
    {
     "data": {
      "text/plain": "                                                user  rating           date  \\\n0  {'name': 'Ears', 'link': 'https://www.google.c...     5.0  11 bulan lalu   \n\n                                             snippet  likes  \n0  (Diterjemahkan oleh Google) Staf yang sangat m...    2.0  ",
      "text/html": "<div>\n<style scoped>\n    .dataframe tbody tr th:only-of-type {\n        vertical-align: middle;\n    }\n\n    .dataframe tbody tr th {\n        vertical-align: top;\n    }\n\n    .dataframe thead th {\n        text-align: right;\n    }\n</style>\n<table border=\"1\" class=\"dataframe\">\n  <thead>\n    <tr style=\"text-align: right;\">\n      <th></th>\n      <th>user</th>\n      <th>rating</th>\n      <th>date</th>\n      <th>snippet</th>\n      <th>likes</th>\n    </tr>\n  </thead>\n  <tbody>\n    <tr>\n      <th>0</th>\n      <td>{'name': 'Ears', 'link': 'https://www.google.c...</td>\n      <td>5.0</td>\n      <td>11 bulan lalu</td>\n      <td>(Diterjemahkan oleh Google) Staf yang sangat m...</td>\n      <td>2.0</td>\n    </tr>\n  </tbody>\n</table>\n</div>"
     },
     "execution_count": 70,
     "metadata": {},
     "output_type": "execute_result"
    }
   ],
   "source": [
    "params = {\n",
    "  \"engine\": \"google_maps_reviews\",\n",
    "  \"data_id\": \"0x2e69f5cf57f221d7:0x312d7e4c1ca898e0\",\n",
    "    \"sort_by\":\"newestFirst\",\n",
    "    \"hl\":\"id\",\n",
    "    \"next_page_token\":\"EgMIggE\",\n",
    "  \"api_key\": \"1c33c59f4cb1d26dd31598098acc27c528873a12c11c0f583d6cdcfec5fa6d1d\"\n",
    "}\n",
    "\n",
    "search13 = GoogleSearch(params)\n",
    "results13 = search13.get_dict()\n",
    "reviews13 = results13['reviews']\n",
    "data13 = pd.DataFrame(reviews13)\n",
    "data13.head(1)"
   ],
   "metadata": {
    "collapsed": false,
    "pycharm": {
     "name": "#%%\n"
    }
   }
  },
  {
   "cell_type": "code",
   "execution_count": 71,
   "outputs": [
    {
     "name": "stdout",
     "output_type": "stream",
     "text": [
      "EgMIjAE\n"
     ]
    }
   ],
   "source": [
    "print(results13[\"serpapi_pagination\"][\"next_page_token\"])\n"
   ],
   "metadata": {
    "collapsed": false,
    "pycharm": {
     "name": "#%%\n"
    }
   }
  },
  {
   "cell_type": "code",
   "execution_count": 72,
   "outputs": [
    {
     "data": {
      "text/plain": "                                                user  rating           date  \\\n0  {'name': 'Andri Deni Landa', 'link': 'https://...     5.0  11 bulan lalu   \n\n             snippet                                             images  likes  \n0  Tempat Kerja Saya  [https://lh5.googleusercontent.com/p/AF1QipP0c...    NaN  ",
      "text/html": "<div>\n<style scoped>\n    .dataframe tbody tr th:only-of-type {\n        vertical-align: middle;\n    }\n\n    .dataframe tbody tr th {\n        vertical-align: top;\n    }\n\n    .dataframe thead th {\n        text-align: right;\n    }\n</style>\n<table border=\"1\" class=\"dataframe\">\n  <thead>\n    <tr style=\"text-align: right;\">\n      <th></th>\n      <th>user</th>\n      <th>rating</th>\n      <th>date</th>\n      <th>snippet</th>\n      <th>images</th>\n      <th>likes</th>\n    </tr>\n  </thead>\n  <tbody>\n    <tr>\n      <th>0</th>\n      <td>{'name': 'Andri Deni Landa', 'link': 'https://...</td>\n      <td>5.0</td>\n      <td>11 bulan lalu</td>\n      <td>Tempat Kerja Saya</td>\n      <td>[https://lh5.googleusercontent.com/p/AF1QipP0c...</td>\n      <td>NaN</td>\n    </tr>\n  </tbody>\n</table>\n</div>"
     },
     "execution_count": 72,
     "metadata": {},
     "output_type": "execute_result"
    }
   ],
   "source": [
    "params = {\n",
    "  \"engine\": \"google_maps_reviews\",\n",
    "  \"data_id\": \"0x2e69f5cf57f221d7:0x312d7e4c1ca898e0\",\n",
    "    \"sort_by\":\"newestFirst\",\n",
    "    \"hl\":\"id\",\n",
    "    \"next_page_token\":\"EgMIjAE\",\n",
    "  \"api_key\": \"1c33c59f4cb1d26dd31598098acc27c528873a12c11c0f583d6cdcfec5fa6d1d\"\n",
    "}\n",
    "\n",
    "search14 = GoogleSearch(params)\n",
    "results14 = search14.get_dict()\n",
    "reviews14 = results14['reviews']\n",
    "data14 = pd.DataFrame(reviews14)\n",
    "data14.head(1)\n"
   ],
   "metadata": {
    "collapsed": false,
    "pycharm": {
     "name": "#%%\n"
    }
   }
  },
  {
   "cell_type": "code",
   "execution_count": 73,
   "outputs": [
    {
     "name": "stdout",
     "output_type": "stream",
     "text": [
      "EgMIlgE\n"
     ]
    }
   ],
   "source": [
    "print(results14[\"serpapi_pagination\"][\"next_page_token\"])\n"
   ],
   "metadata": {
    "collapsed": false,
    "pycharm": {
     "name": "#%%\n"
    }
   }
  },
  {
   "cell_type": "code",
   "execution_count": 74,
   "outputs": [
    {
     "data": {
      "text/plain": "                                                user  rating          date  \\\n0  {'name': 'DJIWA TOEN MOEDA', 'link': 'https://...     4.0  setahun lalu   \n\n                                             snippet  likes  \\\n0  Saya kesini untuk pengambilan barang bukti til...    3.0   \n\n                                              images  \n0  [https://lh5.googleusercontent.com/p/AF1QipPT9...  ",
      "text/html": "<div>\n<style scoped>\n    .dataframe tbody tr th:only-of-type {\n        vertical-align: middle;\n    }\n\n    .dataframe tbody tr th {\n        vertical-align: top;\n    }\n\n    .dataframe thead th {\n        text-align: right;\n    }\n</style>\n<table border=\"1\" class=\"dataframe\">\n  <thead>\n    <tr style=\"text-align: right;\">\n      <th></th>\n      <th>user</th>\n      <th>rating</th>\n      <th>date</th>\n      <th>snippet</th>\n      <th>likes</th>\n      <th>images</th>\n    </tr>\n  </thead>\n  <tbody>\n    <tr>\n      <th>0</th>\n      <td>{'name': 'DJIWA TOEN MOEDA', 'link': 'https://...</td>\n      <td>4.0</td>\n      <td>setahun lalu</td>\n      <td>Saya kesini untuk pengambilan barang bukti til...</td>\n      <td>3.0</td>\n      <td>[https://lh5.googleusercontent.com/p/AF1QipPT9...</td>\n    </tr>\n  </tbody>\n</table>\n</div>"
     },
     "execution_count": 74,
     "metadata": {},
     "output_type": "execute_result"
    }
   ],
   "source": [
    "params = {\n",
    "  \"engine\": \"google_maps_reviews\",\n",
    "  \"data_id\": \"0x2e69f5cf57f221d7:0x312d7e4c1ca898e0\",\n",
    "    \"sort_by\":\"newestFirst\",\n",
    "    \"hl\":\"id\",\n",
    "    \"next_page_token\":\"EgMIlgE\",\n",
    "  \"api_key\": \"1c33c59f4cb1d26dd31598098acc27c528873a12c11c0f583d6cdcfec5fa6d1d\"\n",
    "}\n",
    "\n",
    "search15 = GoogleSearch(params)\n",
    "results15 = search15.get_dict()\n",
    "reviews15 = results15['reviews']\n",
    "data15 = pd.DataFrame(reviews15)\n",
    "data15.head(1)\n",
    "\n"
   ],
   "metadata": {
    "collapsed": false,
    "pycharm": {
     "name": "#%%\n"
    }
   }
  },
  {
   "cell_type": "code",
   "execution_count": 75,
   "outputs": [
    {
     "name": "stdout",
     "output_type": "stream",
     "text": [
      "EgMIoAE\n"
     ]
    }
   ],
   "source": [
    "print(results15[\"serpapi_pagination\"][\"next_page_token\"])"
   ],
   "metadata": {
    "collapsed": false,
    "pycharm": {
     "name": "#%%\n"
    }
   }
  },
  {
   "cell_type": "code",
   "execution_count": 76,
   "outputs": [
    {
     "data": {
      "text/plain": "                                                  user  rating           date  \\\n0    {'name': 'Brisia Jodie', 'link': 'https://www....     1.0    4 hari lalu   \n1    {'name': 'rtri nuryadi', 'link': 'https://www....     1.0    5 hari lalu   \n2    {'name': 'Adzi Wijaya', 'link': 'https://www.g...     5.0  3 minggu lalu   \n3    {'name': 'Abdul Rahman', 'link': 'https://www....     1.0   sebulan lalu   \n4    {'name': 'ria kurniawati', 'link': 'https://ww...     5.0   2 bulan lalu   \n..                                                 ...     ...            ...   \n155  {'name': 'Sonny Tangkudung', 'link': 'https://...     5.0   setahun lalu   \n156  {'name': 'Christian Pioh', 'link': 'https://ww...     5.0   setahun lalu   \n157  {'name': 'Firhan Ali', 'link': 'https://www.go...     1.0   setahun lalu   \n158  {'name': 'Ata Kote', 'link': 'https://www.goog...     1.0   setahun lalu   \n159  {'name': 'Parlindungan S', 'link': 'https://ww...     1.0   setahun lalu   \n\n                                               summary  \\\n0    Kritis: Kualitas, Nilai, Profesionalisme, Resp...   \n1                                     Kritis: Kualitas   \n2                                                  NaN   \n3                                                  NaN   \n4                                                  NaN   \n..                                                 ...   \n155                                                NaN   \n156                                                NaN   \n157                                                NaN   \n158                                                NaN   \n159                                                NaN   \n\n                                               snippet  likes  \\\n0    Kritis: Kualitas, Nilai, Profesionalisme, Resp...    NaN   \n1    Kritis: KualitasKenapa kualitas pelayan dan pe...    NaN   \n2                                                         NaN   \n3    Pengiriman buruk, dari Jakarta ke Jakarta aja ...    NaN   \n4    Grosir Baju tangan pertama Bahan katun rayon, ...    NaN   \n..                                                 ...    ...   \n155  \"Kantor pos besar\" begitu yang dikenal banyak ...    1.0   \n156  Buat yang mau legalisir dokumen apapun disini ...    1.0   \n157  No telp pos indonesia ini yg mana yah ? Paket ...    3.0   \n158  Sangat lambat pengiriman paket melalui pos kil...    NaN   \n159  (Diterjemahkan oleh Google) Kurangnya tanggung...    7.0   \n\n                                                images  \n0                                                  NaN  \n1                                                  NaN  \n2                                                  NaN  \n3                                                  NaN  \n4                                                  NaN  \n..                                                 ...  \n155                                                NaN  \n156  [https://lh5.googleusercontent.com/p/AF1QipNAq...  \n157                                                NaN  \n158                                                NaN  \n159                                                NaN  \n\n[160 rows x 7 columns]",
      "text/html": "<div>\n<style scoped>\n    .dataframe tbody tr th:only-of-type {\n        vertical-align: middle;\n    }\n\n    .dataframe tbody tr th {\n        vertical-align: top;\n    }\n\n    .dataframe thead th {\n        text-align: right;\n    }\n</style>\n<table border=\"1\" class=\"dataframe\">\n  <thead>\n    <tr style=\"text-align: right;\">\n      <th></th>\n      <th>user</th>\n      <th>rating</th>\n      <th>date</th>\n      <th>summary</th>\n      <th>snippet</th>\n      <th>likes</th>\n      <th>images</th>\n    </tr>\n  </thead>\n  <tbody>\n    <tr>\n      <th>0</th>\n      <td>{'name': 'Brisia Jodie', 'link': 'https://www....</td>\n      <td>1.0</td>\n      <td>4 hari lalu</td>\n      <td>Kritis: Kualitas, Nilai, Profesionalisme, Resp...</td>\n      <td>Kritis: Kualitas, Nilai, Profesionalisme, Resp...</td>\n      <td>NaN</td>\n      <td>NaN</td>\n    </tr>\n    <tr>\n      <th>1</th>\n      <td>{'name': 'rtri nuryadi', 'link': 'https://www....</td>\n      <td>1.0</td>\n      <td>5 hari lalu</td>\n      <td>Kritis: Kualitas</td>\n      <td>Kritis: KualitasKenapa kualitas pelayan dan pe...</td>\n      <td>NaN</td>\n      <td>NaN</td>\n    </tr>\n    <tr>\n      <th>2</th>\n      <td>{'name': 'Adzi Wijaya', 'link': 'https://www.g...</td>\n      <td>5.0</td>\n      <td>3 minggu lalu</td>\n      <td>NaN</td>\n      <td></td>\n      <td>NaN</td>\n      <td>NaN</td>\n    </tr>\n    <tr>\n      <th>3</th>\n      <td>{'name': 'Abdul Rahman', 'link': 'https://www....</td>\n      <td>1.0</td>\n      <td>sebulan lalu</td>\n      <td>NaN</td>\n      <td>Pengiriman buruk, dari Jakarta ke Jakarta aja ...</td>\n      <td>NaN</td>\n      <td>NaN</td>\n    </tr>\n    <tr>\n      <th>4</th>\n      <td>{'name': 'ria kurniawati', 'link': 'https://ww...</td>\n      <td>5.0</td>\n      <td>2 bulan lalu</td>\n      <td>NaN</td>\n      <td>Grosir Baju tangan pertama Bahan katun rayon, ...</td>\n      <td>NaN</td>\n      <td>NaN</td>\n    </tr>\n    <tr>\n      <th>...</th>\n      <td>...</td>\n      <td>...</td>\n      <td>...</td>\n      <td>...</td>\n      <td>...</td>\n      <td>...</td>\n      <td>...</td>\n    </tr>\n    <tr>\n      <th>155</th>\n      <td>{'name': 'Sonny Tangkudung', 'link': 'https://...</td>\n      <td>5.0</td>\n      <td>setahun lalu</td>\n      <td>NaN</td>\n      <td>\"Kantor pos besar\" begitu yang dikenal banyak ...</td>\n      <td>1.0</td>\n      <td>NaN</td>\n    </tr>\n    <tr>\n      <th>156</th>\n      <td>{'name': 'Christian Pioh', 'link': 'https://ww...</td>\n      <td>5.0</td>\n      <td>setahun lalu</td>\n      <td>NaN</td>\n      <td>Buat yang mau legalisir dokumen apapun disini ...</td>\n      <td>1.0</td>\n      <td>[https://lh5.googleusercontent.com/p/AF1QipNAq...</td>\n    </tr>\n    <tr>\n      <th>157</th>\n      <td>{'name': 'Firhan Ali', 'link': 'https://www.go...</td>\n      <td>1.0</td>\n      <td>setahun lalu</td>\n      <td>NaN</td>\n      <td>No telp pos indonesia ini yg mana yah ? Paket ...</td>\n      <td>3.0</td>\n      <td>NaN</td>\n    </tr>\n    <tr>\n      <th>158</th>\n      <td>{'name': 'Ata Kote', 'link': 'https://www.goog...</td>\n      <td>1.0</td>\n      <td>setahun lalu</td>\n      <td>NaN</td>\n      <td>Sangat lambat pengiriman paket melalui pos kil...</td>\n      <td>NaN</td>\n      <td>NaN</td>\n    </tr>\n    <tr>\n      <th>159</th>\n      <td>{'name': 'Parlindungan S', 'link': 'https://ww...</td>\n      <td>1.0</td>\n      <td>setahun lalu</td>\n      <td>NaN</td>\n      <td>(Diterjemahkan oleh Google) Kurangnya tanggung...</td>\n      <td>7.0</td>\n      <td>NaN</td>\n    </tr>\n  </tbody>\n</table>\n<p>160 rows × 7 columns</p>\n</div>"
     },
     "execution_count": 76,
     "metadata": {},
     "output_type": "execute_result"
    }
   ],
   "source": [
    "new_df = pd.concat([data,data1,data2,data3,data4,data5,data6,\n",
    "                    data7,data8,data9,data10,data11,data12,data13,data14,data15],ignore_index=True)\n",
    "new_df\n",
    "#new_df.to_excel(\"Gmaps Review j&t Pusat V1 13-10-2021 15.00 Jln.Pemuda No 705.xlsx\")\n"
   ],
   "metadata": {
    "collapsed": false,
    "pycharm": {
     "name": "#%%\n"
    }
   }
  }
 ],
 "metadata": {
  "kernelspec": {
   "display_name": "Python 3",
   "language": "python",
   "name": "python3"
  },
  "language_info": {
   "codemirror_mode": {
    "name": "ipython",
    "version": 2
   },
   "file_extension": ".py",
   "mimetype": "text/x-python",
   "name": "python",
   "nbconvert_exporter": "python",
   "pygments_lexer": "ipython2",
   "version": "2.7.6"
  }
 },
 "nbformat": 4,
 "nbformat_minor": 0
}