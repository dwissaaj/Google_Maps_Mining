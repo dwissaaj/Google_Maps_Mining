{
 "cells": [
  {
   "cell_type": "code",
   "execution_count": 24,
   "metadata": {
    "collapsed": true
   },
   "outputs": [
    {
     "data": {
      "text/plain": "                                                user  rating         date  \\\n0  {'name': 'Oki Channel', 'link': 'https://www.g...     4.0  1 hari lalu   \n\n                                             snippet  likes  \n0  Udh di gedung pos besar eh di alihkan lg kesin...    NaN  ",
      "text/html": "<div>\n<style scoped>\n    .dataframe tbody tr th:only-of-type {\n        vertical-align: middle;\n    }\n\n    .dataframe tbody tr th {\n        vertical-align: top;\n    }\n\n    .dataframe thead th {\n        text-align: right;\n    }\n</style>\n<table border=\"1\" class=\"dataframe\">\n  <thead>\n    <tr style=\"text-align: right;\">\n      <th></th>\n      <th>user</th>\n      <th>rating</th>\n      <th>date</th>\n      <th>snippet</th>\n      <th>likes</th>\n    </tr>\n  </thead>\n  <tbody>\n    <tr>\n      <th>0</th>\n      <td>{'name': 'Oki Channel', 'link': 'https://www.g...</td>\n      <td>4.0</td>\n      <td>1 hari lalu</td>\n      <td>Udh di gedung pos besar eh di alihkan lg kesin...</td>\n      <td>NaN</td>\n    </tr>\n  </tbody>\n</table>\n</div>"
     },
     "execution_count": 24,
     "metadata": {},
     "output_type": "execute_result"
    }
   ],
   "source": [
    "from serpapi import GoogleSearch\n",
    "import pandas as pd\n",
    "import json\n",
    "params = {\n",
    "  \"engine\": \"google_maps_reviews\",\n",
    "  \"data_id\": \"0x2e69f5cf57f221d7:0x312d7e4c1ca898e0\",\n",
    "    \"sort_by\":\"newestFirst\",\n",
    "    \"hl\":\"id\",\n",
    "  \"api_key\": \"1c33c59f4cb1d26dd31598098acc27c528873a12c11c0f583d6cdcfec5fa6d1d\"\n",
    "}\n",
    "\n",
    "search = GoogleSearch(params)\n",
    "results = search.get_dict()\n",
    "reviews = results['reviews']\n",
    "data = pd.DataFrame(reviews)\n",
    "data.head(1)"
   ]
  },
  {
   "cell_type": "code",
   "execution_count": 25,
   "outputs": [
    {
     "name": "stdout",
     "output_type": "stream",
     "text": [
      "{'search_metadata': {'id': '61665379c640d210c48d9b0d', 'status': 'Success', 'json_endpoint': 'https://serpapi.com/searches/f35f3dda6455d8b8/61665379c640d210c48d9b0d.json', 'created_at': '2021-10-13 03:33:13 UTC', 'processed_at': '2021-10-13 03:33:13 UTC', 'google_maps_reviews_url': 'https://www.google.com/async/reviewDialog?hl=id&async=feature_id:0x2e69f5cf57f221d7:0x312d7e4c1ca898e0,sort_by:newestFirst,next_page_token:,associated_topic:,_fmt:pc', 'raw_html_file': 'https://serpapi.com/searches/f35f3dda6455d8b8/61665379c640d210c48d9b0d.html', 'total_time_taken': 5.41}, 'search_parameters': {'engine': 'google_maps_reviews', 'data_id': '0x2e69f5cf57f221d7:0x312d7e4c1ca898e0', 'hl': 'id', 'sort_by': 'newestFirst'}, 'place_info': {'title': 'Kantor Pos Besar', 'address': 'Jl. Lap. Banteng Utara No.1, Ps. Baru, Kota Jakarta Pusat, Daerah Khusus Ibukota Jakarta, Indonesia', 'rating': 3.0, 'reviews': 461}, 'topics': [{'keyword': 'tilang', 'mentions': 27, 'id': '/m/03wr7h'}, {'keyword': 'kerja', 'mentions': 14, 'id': '/g/11gbfbpzht'}, {'keyword': 'STNK', 'mentions': 13, 'id': '/m/03qn6d7'}, {'keyword': 'pengambilan', 'mentions': 11, 'id': '/m/01nccs'}, {'keyword': 'BUMN', 'mentions': 8, 'id': '/m/01d1z6'}, {'keyword': 'sim', 'mentions': 7, 'id': '/m/01jg9y'}, {'keyword': 'bea meterai', 'mentions': 7, 'id': '/m/02wgvq'}, {'keyword': 'negeri', 'mentions': 6, 'id': '/m/05jxkf'}, {'keyword': 'resi', 'mentions': 6, 'id': '/m/0pg2j'}, {'keyword': 'november', 'mentions': 5, 'id': '/m/05cw8'}], 'reviews': [{'user': {'name': 'Oki Channel', 'link': 'https://www.google.com/maps/contrib/102343945268549676791?hl=id-US&sa=X&ved=2ahUKEwjznKn8ucbzAhVWk2oFHUYED0kQvvQBegQIARAy', 'thumbnail': 'https://lh3.googleusercontent.com/a-/AOh14GhFP8YNl9R3dkT3xVhfiRm-HpvdAfVtcN_UnO9z=s40-c-c0x00000000-cc-rp-mo-ba2-br100', 'local_guide': True, 'reviews': 28, 'photos': 13}, 'rating': 4.0, 'date': '1 hari lalu', 'snippet': 'Udh di gedung pos besar eh di alihkan lg kesini kantor pos lapangan banteng antri poollll'}, {'user': {'name': 'Whys Ramandharu', 'link': 'https://www.google.com/maps/contrib/115345023826572734757?hl=id-US&sa=X&ved=2ahUKEwjznKn8ucbzAhVWk2oFHUYED0kQvvQBegQIARA-', 'thumbnail': 'https://lh3.googleusercontent.com/a-/AOh14GiwdqiM_Cl9OcOqPKmzWKaITMgeOZUuqUG8VDvcXw=s40-c-c0x00000000-cc-rp-mo-ba4-br100', 'local_guide': True, 'reviews': 109, 'photos': 166}, 'rating': 4.0, 'date': 'seminggu lalu', 'snippet': 'Saya sangat nyaman di Kantor Pos Besar PT Pos Indonesia Lapangan Banteng.. tempatnya nyaman, parkir luas, suasana sejuk berhadapan dengan lapangan banteng yg asri.Serasa masuki lorong waktu dekade 90an. Ikonik dan strategis. Dikelilingi Pasar Baru, Lapangan Banteng, Gedung Kesehian Jakarta, Katedral dan dekat Masjid Istiqlal.'}, {'user': {'name': 'Ade Nur', 'link': 'https://www.google.com/maps/contrib/109939076837730471301?hl=id-US&sa=X&ved=2ahUKEwjznKn8ucbzAhVWk2oFHUYED0kQvvQBegQIARBL', 'thumbnail': 'https://lh3.googleusercontent.com/a-/AOh14GinP_fvgxuPaoB8Hazwm0YimjDBL-8Gf29QMseNZw=s40-c-c0x00000000-cc-rp-mo-br100', 'reviews': 1}, 'rating': 1.0, 'date': '3 minggu lalu', 'snippet': 'Parah pelayanan nya lama bngt, udh gitu masih pake sistem manual lgi, ini 2021 boss masih aja pake cara lama, klo bukan milik BUMN udh bangkrut ini pos indonesia, nyesel bngt asw'}, {'user': {'name': 'Sugeng Supriyanto (Sugeng)', 'link': 'https://www.google.com/maps/contrib/111531709284987562772?hl=id-US&sa=X&ved=2ahUKEwjznKn8ucbzAhVWk2oFHUYED0kQvvQBegQIARBX', 'thumbnail': 'https://lh3.googleusercontent.com/a-/AOh14GhNUS7SFVk5WN5VegKwG9erk8dov7_ffAyni7FaPw=s40-c-c0x00000000-cc-rp-mo-br100', 'reviews': 9, 'photos': 1}, 'rating': 5.0, 'date': '3 minggu lalu', 'snippet': ''}, {'user': {'name': 'Sam Puspa', 'link': 'https://www.google.com/maps/contrib/101485836104369270706?hl=id-US&sa=X&ved=2ahUKEwjznKn8ucbzAhVWk2oFHUYED0kQvvQBegQIARBg', 'thumbnail': 'https://lh3.googleusercontent.com/a/AATXAJxzbLCsuLBL5qTRRsLssgWs3Mj0rEyESx-XXPMu=s40-c-c0x00000000-cc-rp-mo-br100', 'reviews': 4, 'photos': 1}, 'rating': 1.0, 'date': 'sebulan lalu', 'snippet': 'Pungutan Liar di tempat parkir, Parkir bayar 2 kali jadinya'}, {'user': {'name': 'Kelvin', 'link': 'https://www.google.com/maps/contrib/101495807588981951479?hl=id-US&sa=X&ved=2ahUKEwjznKn8ucbzAhVWk2oFHUYED0kQvvQBegQIARBr', 'thumbnail': 'https://lh3.googleusercontent.com/a/AATXAJy-QJ2gTI7vGI6gBolE00zdWKGyrPxuCT9yAYmC=s40-c-c0x00000000-cc-rp-mo-br100', 'reviews': 4}, 'rating': 1.0, 'date': 'sebulan lalu', 'snippet': 'Parah bgt service nya.'}, {'user': {'name': 'DRL', 'link': 'https://www.google.com/maps/contrib/112495064707988218849?hl=id-US&sa=X&ved=2ahUKEwjznKn8ucbzAhVWk2oFHUYED0kQvvQBegQIARB2', 'thumbnail': 'https://lh3.googleusercontent.com/a-/AOh14GhHsHSgaA5uVfWOLq8BYnOb2DnddwCNx4kV7PfELA=s40-c-c0x00000000-cc-rp-mo-br100', 'reviews': 1}, 'rating': 1.0, 'date': 'sebulan lalu', 'snippet': 'Dokumen STNK dari Samsat lama sekali ga dikirim2. Ditelp jg susahnya minta ampun. Akhirnya malah hilang ga tau kemana dokumen saya itu. Parah bener dah pokoknya!!!', 'likes': 2}, {'user': {'name': 'Joko Waluyo', 'link': 'https://www.google.com/maps/contrib/109452882991204289462?hl=id-US&sa=X&ved=2ahUKEwjznKn8ucbzAhVWk2oFHUYED0kQvvQBegUIARCBAQ', 'thumbnail': 'https://lh3.googleusercontent.com/a-/AOh14Gg_PRz1plCXQqk_u9wca4BT3bGJtfh-B3O0ffA-kA=s40-c-c0x00000000-cc-rp-mo-br100', 'reviews': 1}, 'rating': 1.0, 'date': 'sebulan lalu', 'snippet': 'Pertama kali pake layanan pos. Ambil stnk sampe 2 bulan belum sampe. Di hubungin tidak ada yg kasih jwban pasti. Di mana stnk saya.'}, {'user': {'name': 'Sony Sony', 'link': 'https://www.google.com/maps/contrib/114309968644414493418?hl=id-US&sa=X&ved=2ahUKEwjznKn8ucbzAhVWk2oFHUYED0kQvvQBegUIARCMAQ', 'thumbnail': 'https://lh3.googleusercontent.com/a/AATXAJy1uv670DGgGm6oST33amzOlUgBgFSL4llBdwoI=s40-c-c0x00000000-cc-rp-mo-br100', 'reviews': 2}, 'rating': 1.0, 'date': 'sebulan lalu', 'snippet': 'Tilngan 7 bulan blm datengPada kerja apa nongkrong doang pegawainya..... GAJI BUTA GAJI BUTA GAJI BUTA'}, {'user': {'name': 'Ari offsial', 'link': 'https://www.google.com/maps/contrib/115899039546408099158?hl=id-US&sa=X&ved=2ahUKEwjznKn8ucbzAhVWk2oFHUYED0kQvvQBegUIARCXAQ', 'thumbnail': 'https://lh3.googleusercontent.com/a-/AOh14GhYEqH1YssWcxgOiT0dRjUMlmu3FuF11oUqGmqaug=s40-c-c0x00000000-cc-rp-mo-ba3-br100', 'local_guide': True, 'reviews': 4, 'photos': 77}, 'rating': 2.0, 'date': 'sebulan lalu', 'snippet': 'sim.belum.di kirim 2 ya padahal udah lama bnerr dehhh. klo kya gini gi mana yahh'}], 'serpapi_pagination': {'next': 'https://serpapi.com/search.json?data_id=0x2e69f5cf57f221d7%3A0x312d7e4c1ca898e0&engine=google_maps_reviews&hl=id&next_page_token=EgIICg&sort_by=newestFirst', 'next_page_token': 'EgIICg'}}\n"
     ]
    }
   ],
   "source": [
    "print(results)"
   ],
   "metadata": {
    "collapsed": false,
    "pycharm": {
     "name": "#%%\n"
    }
   }
  },
  {
   "cell_type": "code",
   "execution_count": 33,
   "outputs": [
    {
     "data": {
      "text/plain": "                                                user  rating          date  \\\n0  {'name': 'rizky septian', 'link': 'https://www...     1.0  sebulan lalu   \n\n                                             snippet  likes images  \n0  Kalau bisa kasih nilai minus 5, akan dengan se...    1.0    NaN  ",
      "text/html": "<div>\n<style scoped>\n    .dataframe tbody tr th:only-of-type {\n        vertical-align: middle;\n    }\n\n    .dataframe tbody tr th {\n        vertical-align: top;\n    }\n\n    .dataframe thead th {\n        text-align: right;\n    }\n</style>\n<table border=\"1\" class=\"dataframe\">\n  <thead>\n    <tr style=\"text-align: right;\">\n      <th></th>\n      <th>user</th>\n      <th>rating</th>\n      <th>date</th>\n      <th>snippet</th>\n      <th>likes</th>\n      <th>images</th>\n    </tr>\n  </thead>\n  <tbody>\n    <tr>\n      <th>0</th>\n      <td>{'name': 'rizky septian', 'link': 'https://www...</td>\n      <td>1.0</td>\n      <td>sebulan lalu</td>\n      <td>Kalau bisa kasih nilai minus 5, akan dengan se...</td>\n      <td>1.0</td>\n      <td>NaN</td>\n    </tr>\n  </tbody>\n</table>\n</div>"
     },
     "execution_count": 33,
     "metadata": {},
     "output_type": "execute_result"
    }
   ],
   "source": [
    "params = {\n",
    "  \"engine\": \"google_maps_reviews\",\n",
    "  \"data_id\": \"0x2e69f5cf57f221d7:0x312d7e4c1ca898e0\",\n",
    "    \"sort_by\":\"newestFirst\",\n",
    "    \"hl\":\"id\",\n",
    "    \"next_page_token\":\"EgIICg\",\n",
    "  \"api_key\": \"1c33c59f4cb1d26dd31598098acc27c528873a12c11c0f583d6cdcfec5fa6d1d\"\n",
    "}\n",
    "\n",
    "search1 = GoogleSearch(params)\n",
    "results1 = search1.get_dict()\n",
    "reviews1 = results1['reviews']\n",
    "data1 = pd.DataFrame(reviews1)\n",
    "data1.head(1)"
   ],
   "metadata": {
    "collapsed": false,
    "pycharm": {
     "name": "#%%\n"
    }
   }
  },
  {
   "cell_type": "code",
   "execution_count": 30,
   "outputs": [
    {
     "name": "stdout",
     "output_type": "stream",
     "text": [
      "{'search_metadata': {'id': '6166571fd3aba2b3349d46f8', 'status': 'Success', 'json_endpoint': 'https://serpapi.com/searches/a5e9e61cba623ddb/6166571fd3aba2b3349d46f8.json', 'created_at': '2021-10-13 03:48:47 UTC', 'processed_at': '2021-10-13 03:48:47 UTC', 'google_maps_reviews_url': 'https://www.google.com/async/reviewDialog?hl=id&async=feature_id:0x2e69f5cf57f221d7:0x312d7e4c1ca898e0,sort_by:newestFirst,next_page_token:EgIICg,associated_topic:,_fmt:pc', 'raw_html_file': 'https://serpapi.com/searches/a5e9e61cba623ddb/6166571fd3aba2b3349d46f8.html', 'total_time_taken': 0.62}, 'search_parameters': {'engine': 'google_maps_reviews', 'data_id': '0x2e69f5cf57f221d7:0x312d7e4c1ca898e0', 'hl': 'id', 'next_page_token': 'EgIICg', 'sort_by': 'newestFirst'}, 'place_info': {'title': 'Kantor Pos Besar', 'address': 'Jl. Lap. Banteng Utara No.1, Ps. Baru, Kota Jakarta Pusat, Daerah Khusus Ibukota Jakarta, Indonesia'}, 'topics': [{'keyword': 'tilang', 'mentions': 27, 'id': '/m/03wr7h'}, {'keyword': 'kerja', 'mentions': 14, 'id': '/g/11gbfbpzht'}, {'keyword': 'STNK', 'mentions': 13, 'id': '/m/03qn6d7'}, {'keyword': 'pengambilan', 'mentions': 11, 'id': '/m/01nccs'}, {'keyword': 'BUMN', 'mentions': 8, 'id': '/m/01d1z6'}, {'keyword': 'sim', 'mentions': 7, 'id': '/m/01jg9y'}, {'keyword': 'bea meterai', 'mentions': 7, 'id': '/m/02wgvq'}, {'keyword': 'negeri', 'mentions': 6, 'id': '/m/05jxkf'}, {'keyword': 'resi', 'mentions': 6, 'id': '/m/0pg2j'}, {'keyword': 'november', 'mentions': 5, 'id': '/m/05cw8'}], 'reviews': [{'user': {'name': 'rizky septian', 'link': 'https://www.google.com/maps/contrib/103588756586795614737?hl=id-US&sa=X&ved=2ahUKEwj67J63vcbzAhV-lWoFHRZSDI0QvvQBegQIARAs', 'thumbnail': 'https://lh3.googleusercontent.com/a-/AOh14GjClkA4pvMG53r523DnhF3dlhWe4rsZOv1alTSHUg=s40-c-c0x00000000-cc-rp-mo-ba4-br100', 'local_guide': True, 'reviews': 73, 'photos': 177}, 'rating': 1.0, 'date': 'sebulan lalu', 'snippet': 'Kalau bisa kasih nilai minus 5, akan dengan senang hati saya kasih nilai segitu. Informasi ga jelas terkait e tilang. Sudah saya bayar via online, jauh2 datang ke sini, eh katanya barang bukti tilang tidak ada di kantor. Katanya kebijakan baru (yang tanpa sosialisasi) ini mengharuskan saya untuk COD yang biayanya tidak jelas', 'likes': 1}, {'user': {'name': 'Alfred Gunawan', 'link': 'https://www.google.com/maps/contrib/116024649101046080323?hl=id-US&sa=X&ved=2ahUKEwj67J63vcbzAhV-lWoFHRZSDI0QvvQBegQIARA3', 'thumbnail': 'https://lh3.googleusercontent.com/a-/AOh14GiDjnVsZtdB-zdK50mEaGdCQ7Ke4Bl5WKSpFintLQ=s40-c-c0x00000000-cc-rp-mo-br100', 'reviews': 3}, 'rating': 1.0, 'date': 'sebulan lalu', 'snippet': 'Kalau bukan BUMN udah bangkrut ini. Pelayanannya lelet.Beban negara.Yang kasih bintang lima fix karyawan dia.. 😂😂', 'likes': 3}, {'user': {'name': 'Datu Story', 'link': 'https://www.google.com/maps/contrib/112707843334468313775?hl=id-US&sa=X&ved=2ahUKEwj67J63vcbzAhV-lWoFHRZSDI0QvvQBegQIARBD', 'thumbnail': 'https://lh3.googleusercontent.com/a-/AOh14Gg5R1OmKunEbvE5ZSVQ6ZITur0LiXvZQ0ACqjXktw=s40-c-c0x00000000-cc-rp-mo-br100', 'reviews': 4}, 'rating': 1.0, 'date': '2 bulan lalu', 'snippet': 'Layanan tlpnya sungguh sangat mengecewakan.. mau berapakali di tlp gak pernah di angkat tolong kalau layanan tlpnya di perbaiki'}, {'user': {'name': 'Agus Safaat channel', 'link': 'https://www.google.com/maps/contrib/114604402761020972489?hl=id-US&sa=X&ved=2ahUKEwj67J63vcbzAhV-lWoFHRZSDI0QvvQBegQIARBO', 'thumbnail': 'https://lh3.googleusercontent.com/a-/AOh14Gjo1X7tNyQm4TckMTmp1JvF-NqAIYaJ5Q3a_WzDdg=s40-c-c0x00000000-cc-rp-mo-ba4-br100', 'local_guide': True, 'reviews': 141, 'photos': 19}, 'rating': 2.0, 'date': '2 bulan lalu', 'snippet': 'Saya disabilitas tdk di prioritas kan ke parkir khusus, atau tidak ada parkir khusus disabilitas', 'likes': 1}, {'user': {'name': 'ivan Sss', 'link': 'https://www.google.com/maps/contrib/107778989566188580085?hl=id-US&sa=X&ved=2ahUKEwj67J63vcbzAhV-lWoFHRZSDI0QvvQBegQIARBZ', 'thumbnail': 'https://lh3.googleusercontent.com/a-/AOh14GiitvBlS8FQYwbIF-5m24FY2vZlh_y794R4viPx9w=s40-c-c0x00000000-cc-rp-mo-br100', 'reviews': 3}, 'rating': 1.0, 'date': '2 bulan lalu', 'snippet': 'Customer service yg sangat buruk. Telp pun selalu tidak bisa sambung.'}, {'user': {'name': 'Ali Ridho', 'link': 'https://www.google.com/maps/contrib/111574945676980680019?hl=id-US&sa=X&ved=2ahUKEwj67J63vcbzAhV-lWoFHRZSDI0QvvQBegQIARBk', 'thumbnail': 'https://lh3.googleusercontent.com/a-/AOh14GjrMLeSE3TsQNf58TGVbEKfADzqdB42c4y-31hC7w=s40-c-c0x00000000-cc-rp-mo-ba2-br100', 'local_guide': True, 'reviews': 28, 'photos': 2}, 'rating': 1.0, 'date': '2 bulan lalu', 'snippet': '6 MINGGU GA SAMPE\"UDAH BAYAR ONGKIRTETEP AJA AMBIL BARANG BUKTI SENDIRIKEMANAKAH UANG ONGKIR?? 🤣🤣', 'likes': 1}, {'user': {'name': 'aprina djatmiko', 'link': 'https://www.google.com/maps/contrib/118362320552279743461?hl=id-US&sa=X&ved=2ahUKEwj67J63vcbzAhV-lWoFHRZSDI0QvvQBegQIARBv', 'thumbnail': 'https://lh3.googleusercontent.com/a-/AOh14GilQPVQLNQBj4MNmh6ubMGiv1ryvzvTVybG9eRtlQ=s40-c-c0x00000000-cc-rp-mo-br100', 'reviews': 3}, 'rating': 1.0, 'date': '2 bulan lalu', 'snippet': 'Pelayanan payah . 2 kali urus tilangan sudah bayar tetapi tidak.pernah sampe ke rumah . Padahal sudah nunggu 1 bulanan . 2 kali urus . 2 kali juga nunggu sebulan tilangan tidak pernah sampe ke rumah . Malah harus ambil ke kantor pos nya langsung padahal sudah bayar ongkir dan biaya pengurusan yg mahal', 'likes': 4}, {'user': {'name': 'Kileon Fox', 'link': 'https://www.google.com/maps/contrib/104973646511861571208?hl=id-US&sa=X&ved=2ahUKEwj67J63vcbzAhV-lWoFHRZSDI0QvvQBegQIARB6', 'thumbnail': 'https://lh3.googleusercontent.com/a-/AOh14Gh1RTwldntDYqD-3UHmANIGVe3WWdhRAdRNzzJs=s40-c-c0x00000000-cc-rp-mo-br100', 'reviews': 7}, 'rating': 1.0, 'date': '2 bulan lalu', 'snippet': 'Barang tidak pernah sampai, Ngakunya alamat tidak jelas. Padahal sudah jelas-jelas kita kirim paket pakai kurir lain sampai.Kalau ditelp sibuuuuuk terus. Tidak pernah diangkat.TUTUP AJA KANTOR POS KALAU TIDAK NIAT.LAIN KALI SAYA PAKAI KURIR LAIN. MAHAL SEDIKIT BARANG JELAS. TIDAK PERLU PAKAI RIBUT DENGAN PEMBELI.', 'likes': 1}, {'user': {'name': 'Rhoma Minandar', 'link': 'https://www.google.com/maps/contrib/102887415871437214666?hl=id-US&sa=X&ved=2ahUKEwj67J63vcbzAhV-lWoFHRZSDI0QvvQBegUIARCGAQ', 'thumbnail': 'https://lh3.googleusercontent.com/a-/AOh14Gjv0r0yQxISKUiMlaWnBrshsdoKqDc8d1gkiNBg7w=s40-c-c0x00000000-cc-rp-mo-ba3-br100', 'local_guide': True, 'reviews': 35, 'photos': 26}, 'rating': 1.0, 'date': '2 bulan lalu', 'snippet': 'SISTEM HARUS DIRUBAH', 'likes': 7, 'images': ['https://lh5.googleusercontent.com/p/AF1QipOFZe7gtGbAsDu6W5fxuaDaU32OdiLq6fhMCWbX=w100-h100-p-n-k-no']}, {'user': {'name': 'Cerita Dina', 'link': 'https://www.google.com/maps/contrib/102994437855305190270?hl=id-US&sa=X&ved=2ahUKEwj67J63vcbzAhV-lWoFHRZSDI0QvvQBegUIARCTAQ', 'thumbnail': 'https://lh3.googleusercontent.com/a-/AOh14Gi7Bc4JG9lQVXlQ3nkFYSMuPzZc_iYJ3QawQvg5hp0=s40-c-c0x00000000-cc-rp-mo-br100', 'reviews': 13, 'photos': 2}, 'rating': 2.0, 'date': '2 bulan lalu', 'snippet': '(Diterjemahkan oleh Google) Dalam masa pandemi transaksi di kantor pos masih cash.. haloo kenapa tidak pakai mesin edc? Tidak ada mitigasi risiko pandemi covid… dan nasabah harus ke ATM untuk mendapatkan uang tunai ️🤦🏻\\u200d♀️🤦🏻\\u200d♀️(Asli)In pandemic transaction at postal office still cash.. hellooo why you not used edc machine? There’s no mitigation risk for pandemic covid… and customers have to ATM for cash 🤦🏻\\u200d♀️🤦🏻\\u200d♀️🤦🏻\\u200d♀️', 'likes': 1}], 'serpapi_pagination': {'next': 'https://serpapi.com/search.json?data_id=0x2e69f5cf57f221d7%3A0x312d7e4c1ca898e0&engine=google_maps_reviews&hl=id&next_page_token=EgIIFA&sort_by=newestFirst', 'next_page_token': 'EgIIFA'}}\n"
     ]
    }
   ],
   "source": [
    "print(results1)"
   ],
   "metadata": {
    "collapsed": false,
    "pycharm": {
     "name": "#%%\n"
    }
   }
  },
  {
   "cell_type": "code",
   "execution_count": 34,
   "outputs": [
    {
     "data": {
      "text/plain": "                                                user  rating          date  \\\n0  {'name': 'Mohammad Afif', 'link': 'https://www...     1.0  3 bulan lalu   \n\n                                             snippet  likes images  \n0  Sistem bobrok amburadul wajar lah kalah sama s...    1.0    NaN  ",
      "text/html": "<div>\n<style scoped>\n    .dataframe tbody tr th:only-of-type {\n        vertical-align: middle;\n    }\n\n    .dataframe tbody tr th {\n        vertical-align: top;\n    }\n\n    .dataframe thead th {\n        text-align: right;\n    }\n</style>\n<table border=\"1\" class=\"dataframe\">\n  <thead>\n    <tr style=\"text-align: right;\">\n      <th></th>\n      <th>user</th>\n      <th>rating</th>\n      <th>date</th>\n      <th>snippet</th>\n      <th>likes</th>\n      <th>images</th>\n    </tr>\n  </thead>\n  <tbody>\n    <tr>\n      <th>0</th>\n      <td>{'name': 'Mohammad Afif', 'link': 'https://www...</td>\n      <td>1.0</td>\n      <td>3 bulan lalu</td>\n      <td>Sistem bobrok amburadul wajar lah kalah sama s...</td>\n      <td>1.0</td>\n      <td>NaN</td>\n    </tr>\n  </tbody>\n</table>\n</div>"
     },
     "execution_count": 34,
     "metadata": {},
     "output_type": "execute_result"
    }
   ],
   "source": [
    "params = {\n",
    "  \"engine\": \"google_maps_reviews\",\n",
    "  \"data_id\": \"0x2e69f5cf57f221d7:0x312d7e4c1ca898e0\",\n",
    "    \"sort_by\":\"newestFirst\",\n",
    "    \"hl\":\"id\",\n",
    "    \"next_page_token\":\"EgIIFA\",\n",
    "  \"api_key\": \"1c33c59f4cb1d26dd31598098acc27c528873a12c11c0f583d6cdcfec5fa6d1d\"\n",
    "}\n",
    "\n",
    "search2 = GoogleSearch(params)\n",
    "results2 = search2.get_dict()\n",
    "reviews2 = results2['reviews']\n",
    "data2 = pd.DataFrame(reviews2)\n",
    "data2.head(1)\n"
   ],
   "metadata": {
    "collapsed": false,
    "pycharm": {
     "name": "#%%\n"
    }
   }
  },
  {
   "cell_type": "code",
   "execution_count": 35,
   "outputs": [
    {
     "name": "stdout",
     "output_type": "stream",
     "text": [
      "{'search_metadata': {'id': '616651fea4bb3872d2aa64c0', 'status': 'Success', 'json_endpoint': 'https://serpapi.com/searches/f04747d52580c513/616651fea4bb3872d2aa64c0.json', 'created_at': '2021-10-13 03:26:54 UTC', 'processed_at': '2021-10-13 03:26:54 UTC', 'google_maps_reviews_url': 'https://www.google.com/async/reviewDialog?hl=id&async=feature_id:0x2e69f5cf57f221d7:0x312d7e4c1ca898e0,sort_by:newestFirst,next_page_token:EgIIFA,associated_topic:,_fmt:pc', 'raw_html_file': 'https://serpapi.com/searches/f04747d52580c513/616651fea4bb3872d2aa64c0.html', 'total_time_taken': 0.43}, 'search_parameters': {'engine': 'google_maps_reviews', 'data_id': '0x2e69f5cf57f221d7:0x312d7e4c1ca898e0', 'hl': 'id', 'next_page_token': 'EgIIFA', 'sort_by': 'newestFirst'}, 'place_info': {'title': 'Kantor Pos Besar', 'address': 'Jl. Lap. Banteng Utara No.1, Ps. Baru, Kota Jakarta Pusat, Daerah Khusus Ibukota Jakarta, Indonesia'}, 'topics': [{'keyword': 'tilang', 'mentions': 27, 'id': '/m/03wr7h'}, {'keyword': 'kerja', 'mentions': 14, 'id': '/g/11gbfbpzht'}, {'keyword': 'STNK', 'mentions': 13, 'id': '/m/03qn6d7'}, {'keyword': 'pengambilan', 'mentions': 11, 'id': '/m/01nccs'}, {'keyword': 'BUMN', 'mentions': 8, 'id': '/m/01d1z6'}, {'keyword': 'sim', 'mentions': 7, 'id': '/m/01jg9y'}, {'keyword': 'bea meterai', 'mentions': 7, 'id': '/m/02wgvq'}, {'keyword': 'negeri', 'mentions': 6, 'id': '/m/05jxkf'}, {'keyword': 'resi', 'mentions': 6, 'id': '/m/0pg2j'}, {'keyword': 'november', 'mentions': 5, 'id': '/m/05cw8'}], 'reviews': [{'user': {'name': 'Mohammad Afif', 'link': 'https://www.google.com/maps/contrib/108521768872496871814?hl=id-US&sa=X&ved=2ahUKEwiw3_rEuMbzAhU5nWoFHbjhBmwQvvQBegQIARAs', 'thumbnail': 'https://lh3.googleusercontent.com/a-/AOh14GgzfxMeCLy2qiSkVVOOZ8vjQlhkNJ98Gnk8stObeQ=s40-c-c0x00000000-cc-rp-mo-br100', 'reviews': 10}, 'rating': 1.0, 'date': '3 bulan lalu', 'snippet': 'Sistem bobrok amburadul wajar lah kalah sama swasta masalah pengiriman, pos masih bisa bernafas karena BUMN aja.Bayar Tilang Disini dari bulan februari sampe sekarang SIM ga dateng² cek no resi pun ga terdaftar TLP cs malah dimatikan, chat di IG jawabannya monoton ga ada solusi. Wajar lah perusahaan negara begini?', 'likes': 1}, {'user': {'name': 'Darin Rf', 'link': 'https://www.google.com/maps/contrib/113569386128836841015?hl=id-US&sa=X&ved=2ahUKEwiw3_rEuMbzAhU5nWoFHbjhBmwQvvQBegQIARA4', 'thumbnail': 'https://lh3.googleusercontent.com/a-/AOh14Gj8qILY3Y4sMQNqWfM0-rZPaF0X5WOEsAV_eX_G_g=s40-c-c0x00000000-cc-rp-mo-br100', 'reviews': 3, 'photos': 1}, 'rating': 1.0, 'date': '3 bulan lalu', 'snippet': ''}, {'user': {'name': 'Richard', 'link': 'https://www.google.com/maps/contrib/116058173238762623467?hl=id-US&sa=X&ved=2ahUKEwiw3_rEuMbzAhU5nWoFHbjhBmwQvvQBegQIARBA', 'thumbnail': 'https://lh3.googleusercontent.com/a/AATXAJzYEoc0L4cbtznlI2bL7o9FLpqNpWM3GGOd3BaYuw=s40-c-c0x00000000-cc-rp-mo-br100', 'reviews': 9, 'photos': 3}, 'rating': 1.0, 'date': '3 bulan lalu', 'snippet': 'Bikin malu negara. Dari masuk aja karcis parkir belum touchless, tukang parkir masker dagu semua. Masuk gedung ga ada cek suhu, NOMOR antri aja ga ada, telpon ga pernah bisa dihubungi. Semua pembayaran masih pakai cash dari faktur import sampai karcis parkir. Betul2 perlu dirombak ini', 'likes': 2}, {'user': {'name': 'Zena Zena', 'link': 'https://www.google.com/maps/contrib/106186301811641936216?hl=id-US&sa=X&ved=2ahUKEwiw3_rEuMbzAhU5nWoFHbjhBmwQvvQBegQIARBL', 'thumbnail': 'https://lh3.googleusercontent.com/a/AATXAJyQiJC3vcHTvQAzegFqMc_Qck4hUT86sNVupHdf=s40-c-c0x00000000-cc-rp-mo-br100', 'reviews': 37, 'photos': 32}, 'rating': 5.0, 'date': '3 bulan lalu', 'snippet': 'Tempat yang nyaman,untuk pengiriman barang ke dalam ataupun luar negri', 'images': ['https://lh5.googleusercontent.com/p/AF1QipNGLRQZyQF4kvx0lTdvFYwPk1Hgm6W_Z61QXHlB=w100-h100-p-n-k-no']}, {'user': {'name': 'muhammad barli fadly', 'link': 'https://www.google.com/maps/contrib/104128835723583747122?hl=id-US&sa=X&ved=2ahUKEwiw3_rEuMbzAhU5nWoFHbjhBmwQvvQBegQIARBY', 'thumbnail': 'https://lh3.googleusercontent.com/a-/AOh14Gi1JDjeGwPPuz5X5d0X_TrciUNFx3jqstZvhBWbTw=s40-c-c0x00000000-cc-rp-mo-ba2-br100', 'local_guide': True, 'reviews': 10, 'photos': 24}, 'rating': 2.0, 'date': '3 bulan lalu', 'snippet': 'Pengalaman membayar E-Tilang di Kantor Pos Lapangan Banteng:Petugas satpam di loket ambil nomor antrian sama sekali tidak membantu. Alih2 menyampaikan informasi secara lengkap di awal, informasi disampaikan sedikit2 dan separuh2. Jd terpaksa harus bolak balik siapkan seluruh persyaratan. Petugas satpam arogan. Bintang 2/5 krn servis petugas di nomor antrian 👎🏼Dokumen yg dibawa utk E-Tilang:1. Kertas tilang (+ fotocopy)2. Fotocopy KTP3. Pulpen4. Bukti bayar tilang (+ fotocopy) (jika bayar dilakukan melalui virtual account atau teller bank)Alur pembayaran dan tebus barang bukti tilang:1. Dokumen dibawa2. Minta nomor antrian kpd satpam di gedung teller3. Menunggu antrian sambil mengisi alamt tujuan pengiriman4. Bayar (apabila belum lakukan pembayaran lewat virtual account atau bank)5. Barang bukti tilang dikirimkan melalui posNgobrol2 dengan sesama pengurus, proses pengiriman barang bukti bisa sampai satu bulan. Jd memang agak tricky.E TILANG HANYA DILAYANI WEEKDAYS MAKSIMAL PKL 10.00 PAGI.Tidak ada banner/flyer informasi alur e-tilang jd pengunjung hanya bergantung pd informasi petugas di mesin nomor antrian yg diberikan separuh2.', 'likes': 7, 'images': ['https://lh5.googleusercontent.com/p/AF1QipPd3EZDO-jclWUZMn7psG81CeRTQDS8mSZTANaj=w100-h100-p-n-k-no', 'https://lh5.googleusercontent.com/p/AF1QipOmXhjSuoXiXORq6L8-PYWH4VYMZshKQF7qBA3D=w100-h100-p-n-k-no']}, {'user': {'name': 'Mustofa Kamil', 'link': 'https://www.google.com/maps/contrib/115639542122528827642?hl=id-US&sa=X&ved=2ahUKEwiw3_rEuMbzAhU5nWoFHbjhBmwQvvQBegQIARBn', 'thumbnail': 'https://lh3.googleusercontent.com/a-/AOh14GgsXPTTassIJ3q-HkSWF3Z7Z6W6laCwPGFdmBHI9H0=s40-c-c0x00000000-cc-rp-mo-ba4-br100', 'local_guide': True, 'reviews': 6, 'photos': 9}, 'rating': 5.0, 'date': '3 bulan lalu', 'snippet': ''}, {'user': {'name': 'Debby Lestari', 'link': 'https://www.google.com/maps/contrib/110947779446477962978?hl=id-US&sa=X&ved=2ahUKEwiw3_rEuMbzAhU5nWoFHbjhBmwQvvQBegQIARBv', 'thumbnail': 'https://lh3.googleusercontent.com/a/AATXAJxDWKvUjgUUHTgIqWUeBYcvMzIoCDAK0ohWSUjj=s40-c-c0x00000000-cc-rp-mo-br100', 'reviews': 2}, 'rating': 1.0, 'date': '3 bulan lalu', 'snippet': 'kerja nya lelet, disuruh bayar denda tilangan, udah di bayar tetapi sampai 2 bulan belum datang datang juga simnya,gw udah bayar tolong balikin SIM gw yg ketilang di jakarta pusat,gimna mau bersaing sama swasta kalau pengirimannya paketnya sampai berbulan bulan'}, {'user': {'name': 'Rudianto Winardi', 'link': 'https://www.google.com/maps/contrib/106386533835751761558?hl=id-US&sa=X&ved=2ahUKEwiw3_rEuMbzAhU5nWoFHbjhBmwQvvQBegQIARB6', 'thumbnail': 'https://lh3.googleusercontent.com/a-/AOh14GjjhOGGQpkNOCsD3gleuz6sNFy9sAG4zhhAImF7pg=s40-c-c0x00000000-cc-rp-mo-ba4-br100', 'local_guide': True, 'reviews': 12, 'photos': 175}, 'rating': 1.0, 'date': '3 bulan lalu', 'snippet': 'Petugas loket tak ramah padahal masih pagi, kecuali tim security.'}, {'user': {'name': 'isa alzobidi', 'link': 'https://www.google.com/maps/contrib/118024653589822467036?hl=id-US&sa=X&ved=2ahUKEwiw3_rEuMbzAhU5nWoFHbjhBmwQvvQBegUIARCFAQ', 'thumbnail': 'https://lh3.googleusercontent.com/a-/AOh14GhyXGCKBvZnl34c3_9gUWk96BaRy77lif97VmCp=s40-c-c0x00000000-cc-rp-mo-ba2-br100', 'local_guide': True, 'reviews': 26}, 'rating': 1.0, 'date': '3 bulan lalu', 'snippet': ''}, {'user': {'name': 'Choirul Anwar', 'link': 'https://www.google.com/maps/contrib/112235408549842990784?hl=id-US&sa=X&ved=2ahUKEwiw3_rEuMbzAhU5nWoFHbjhBmwQvvQBegUIARCNAQ', 'thumbnail': 'https://lh3.googleusercontent.com/a/AATXAJyK-7RFo0EyjPCrR9VuRG9JkQwymxlED7mEZXvn=s40-c-c0x00000000-cc-rp-mo-br100', 'reviews': 3}, 'rating': 1.0, 'date': '3 bulan lalu', 'snippet': 'Buruk sekali pelayanannya.,,,parahhhh,,!!!!!!!karyawan nya pada sombong ,,g da sopan santunya...'}], 'serpapi_pagination': {'next': 'https://serpapi.com/search.json?data_id=0x2e69f5cf57f221d7%3A0x312d7e4c1ca898e0&engine=google_maps_reviews&hl=id&next_page_token=EgIIHg&sort_by=newestFirst', 'next_page_token': 'EgIIHg'}}\n"
     ]
    }
   ],
   "source": [
    "print(results2)\n"
   ],
   "metadata": {
    "collapsed": false,
    "pycharm": {
     "name": "#%%\n"
    }
   }
  },
  {
   "cell_type": "code",
   "execution_count": 37,
   "outputs": [
    {
     "data": {
      "text/plain": "                                                user  rating          date  \\\n0  {'name': 'Yusuf Agil', 'link': 'https://www.go...     5.0  4 bulan lalu   \n\n                                             snippet images  likes  \n0  (Diterjemahkan oleh Google) Kualitas Profesion...    NaN    NaN  ",
      "text/html": "<div>\n<style scoped>\n    .dataframe tbody tr th:only-of-type {\n        vertical-align: middle;\n    }\n\n    .dataframe tbody tr th {\n        vertical-align: top;\n    }\n\n    .dataframe thead th {\n        text-align: right;\n    }\n</style>\n<table border=\"1\" class=\"dataframe\">\n  <thead>\n    <tr style=\"text-align: right;\">\n      <th></th>\n      <th>user</th>\n      <th>rating</th>\n      <th>date</th>\n      <th>snippet</th>\n      <th>images</th>\n      <th>likes</th>\n    </tr>\n  </thead>\n  <tbody>\n    <tr>\n      <th>0</th>\n      <td>{'name': 'Yusuf Agil', 'link': 'https://www.go...</td>\n      <td>5.0</td>\n      <td>4 bulan lalu</td>\n      <td>(Diterjemahkan oleh Google) Kualitas Profesion...</td>\n      <td>NaN</td>\n      <td>NaN</td>\n    </tr>\n  </tbody>\n</table>\n</div>"
     },
     "execution_count": 37,
     "metadata": {},
     "output_type": "execute_result"
    }
   ],
   "source": [
    "params = {\n",
    "  \"engine\": \"google_maps_reviews\",\n",
    "  \"data_id\": \"0x2e69f5cf57f221d7:0x312d7e4c1ca898e0\",\n",
    "    \"sort_by\":\"newestFirst\",\n",
    "    \"hl\":\"id\",\n",
    "    \"next_page_token\":\"EgIIHg\",\n",
    "  \"api_key\": \"1c33c59f4cb1d26dd31598098acc27c528873a12c11c0f583d6cdcfec5fa6d1d\"\n",
    "}\n",
    "\n",
    "search3 = GoogleSearch(params)\n",
    "results3 = search3.get_dict()\n",
    "reviews3 = results3['reviews']\n",
    "data3 = pd.DataFrame(reviews3)\n",
    "data3.head(1)\n",
    "\n"
   ],
   "metadata": {
    "collapsed": false,
    "pycharm": {
     "name": "#%%\n"
    }
   }
  },
  {
   "cell_type": "code",
   "execution_count": 38,
   "outputs": [
    {
     "name": "stdout",
     "output_type": "stream",
     "text": [
      "{'search_metadata': {'id': '6166586c0ead4116e06d42de', 'status': 'Success', 'json_endpoint': 'https://serpapi.com/searches/a5df1238302ad6ff/6166586c0ead4116e06d42de.json', 'created_at': '2021-10-13 03:54:20 UTC', 'processed_at': '2021-10-13 03:54:20 UTC', 'google_maps_reviews_url': 'https://www.google.com/async/reviewDialog?hl=id&async=feature_id:0x2e69f5cf57f221d7:0x312d7e4c1ca898e0,sort_by:newestFirst,next_page_token:EgIIHg,associated_topic:,_fmt:pc', 'raw_html_file': 'https://serpapi.com/searches/a5df1238302ad6ff/6166586c0ead4116e06d42de.html', 'total_time_taken': 2.07}, 'search_parameters': {'engine': 'google_maps_reviews', 'data_id': '0x2e69f5cf57f221d7:0x312d7e4c1ca898e0', 'hl': 'id', 'next_page_token': 'EgIIHg', 'sort_by': 'newestFirst'}, 'place_info': {'title': 'Kantor Pos Besar', 'address': 'Jl. Lap. Banteng Utara No.1, Ps. Baru, Kota Jakarta Pusat, Daerah Khusus Ibukota Jakarta, Indonesia'}, 'topics': [{'keyword': 'tilang', 'mentions': 27, 'id': '/m/03wr7h'}, {'keyword': 'kerja', 'mentions': 14, 'id': '/g/11gbfbpzht'}, {'keyword': 'STNK', 'mentions': 13, 'id': '/m/03qn6d7'}, {'keyword': 'pengambilan', 'mentions': 11, 'id': '/m/01nccs'}, {'keyword': 'BUMN', 'mentions': 8, 'id': '/m/01d1z6'}, {'keyword': 'sim', 'mentions': 7, 'id': '/m/01jg9y'}, {'keyword': 'bea meterai', 'mentions': 7, 'id': '/m/02wgvq'}, {'keyword': 'negeri', 'mentions': 6, 'id': '/m/05jxkf'}, {'keyword': 'resi', 'mentions': 6, 'id': '/m/0pg2j'}, {'keyword': 'november', 'mentions': 5, 'id': '/m/05cw8'}], 'reviews': [{'user': {'name': 'Yusuf Agil', 'link': 'https://www.google.com/maps/contrib/117128221607068128196?hl=id-US&sa=X&ved=2ahUKEwjowOXWvsbzAhWT6p4KHb3CDYoQvvQBegQIARAs', 'thumbnail': 'https://lh3.googleusercontent.com/a/AATXAJx3YDz8ZL2Cgw73T54u47dIoCxIb5Am55Y3t5ci=s40-c-c0x00000000-cc-rp-mo-ba3-br100', 'local_guide': True, 'reviews': 27, 'photos': 50}, 'rating': 5.0, 'date': '4 bulan lalu', 'snippet': '(Diterjemahkan oleh Google) Kualitas Profesional(Asli)Professional Quality'}, {'user': {'name': 'M Rizqi Ramadhan', 'link': 'https://www.google.com/maps/contrib/105027474795288419423?hl=id-US&sa=X&ved=2ahUKEwjowOXWvsbzAhWT6p4KHb3CDYoQvvQBegQIARA3', 'thumbnail': 'https://lh3.googleusercontent.com/a/AATXAJwANzqeE_BE6gvhNw8ot77xSHTerjk5PF7D-9hsrA=s40-c-c0x00000000-cc-rp-mo-br100'}, 'rating': 1.0, 'date': '4 bulan lalu', 'snippet': ''}, {'user': {'name': 'herman b_1', 'link': 'https://www.google.com/maps/contrib/110843729127854160153?hl=id-US&sa=X&ved=2ahUKEwjowOXWvsbzAhWT6p4KHb3CDYoQvvQBegQIARA-', 'thumbnail': 'https://lh3.googleusercontent.com/a/AATXAJxFN2nrR0Oyxsrle86iuUe16ibrBSCKQbLxNsp6=s40-c-c0x00000000-cc-rp-mo-ba5-br100', 'local_guide': True, 'reviews': 236, 'photos': 673}, 'rating': 4.0, 'date': '4 bulan lalu', 'snippet': 'Gedung pos yg bersejarah', 'images': ['https://lh5.googleusercontent.com/p/AF1QipM_tZAncqqf4HlTgQrbyE_9Gur8rPBH5lFAoc8L=w100-h100-p-n-k-no', 'https://lh5.googleusercontent.com/p/AF1QipNzryhUkvgVAifjvADAAItsfF0BwRW3-Lx7e1Eq=w100-h100-p-n-k-no', 'https://lh5.googleusercontent.com/p/AF1QipPQG0MKHS81bpUw8bS1tqB9jHna9JXuxb7fRPte=w100-h100-p-n-k-no', 'https://lh5.googleusercontent.com/p/AF1QipMsirwKppFE0vSPqyIYVx2flXoAhQsWuSiQQ7M4=w100-h100-p-n-k-no']}, {'user': {'name': 'annang s', 'link': 'https://www.google.com/maps/contrib/103228860004465612176?hl=id-US&sa=X&ved=2ahUKEwjowOXWvsbzAhWT6p4KHb3CDYoQvvQBegQIARBO', 'thumbnail': 'https://lh3.googleusercontent.com/a/AATXAJybSJcqjsOBflHbmsPRGghRnoG1I3_zREwYJko=s40-c-c0x00000000-cc-rp-mo-br100', 'reviews': 8, 'photos': 5}, 'rating': 1.0, 'date': '4 bulan lalu', 'snippet': 'Parah, telepon jam 07.32 pagi, diangkat langsung dimatikan, ditelepon ulang 09.29 masuk mesin penjawab, ingin berbicara operator, tekan 0, diangkat, langsung dimatikan ... Unit kantor besar masak tidak ada operator', 'likes': 1}, {'user': {'name': 'dwi Bhekti', 'link': 'https://www.google.com/maps/contrib/109278800271429910093?hl=id-US&sa=X&ved=2ahUKEwjowOXWvsbzAhWT6p4KHb3CDYoQvvQBegQIARBZ', 'thumbnail': 'https://lh3.googleusercontent.com/a-/AOh14GigU5foIeCdiahuJVlVGGj1Fsbq0-fiJzNP1ASX0Q=s40-c-c0x00000000-cc-rp-mo-ba4-br100', 'local_guide': True, 'reviews': 186, 'photos': 334}, 'rating': 4.0, 'date': '4 bulan lalu', 'snippet': 'Mbayar tilang di kantor pos besar... datanglah pagiPeminat nya banyak soalnya !'}, {'user': {'name': 'Agus Setiawan', 'link': 'https://www.google.com/maps/contrib/115664237879072084686?hl=id-US&sa=X&ved=2ahUKEwjowOXWvsbzAhWT6p4KHb3CDYoQvvQBegQIARBk', 'thumbnail': 'https://lh3.googleusercontent.com/a-/AOh14GioxvQq_mYNMRmIjE2ZN0bZ7jV86zC41bv3UHy4=s40-c-c0x00000000-cc-rp-mo-br100', 'reviews': 2}, 'rating': 1.0, 'date': '4 bulan lalu', 'snippet': 'SIM nya di apain dulu sih di sana ko ngirim nya lama bgt . Kejaksaan Jakarta barat ajh cepet ngirim nya walaupun pake kantor pos . Lah ini udh sebulan lebih . Lama amat', 'likes': 1}, {'user': {'name': 'Agus Firmansyah', 'link': 'https://www.google.com/maps/contrib/106494014236678777306?hl=id-US&sa=X&ved=2ahUKEwjowOXWvsbzAhWT6p4KHb3CDYoQvvQBegQIARBv', 'thumbnail': 'https://lh3.googleusercontent.com/a-/AOh14Gj0cIWLXTJb5R5kF3CZNc_1Bm7a4fjjgjI6V2i7GA=s40-c-c0x00000000-cc-rp-mo-br100', 'reviews': 4}, 'rating': 1.0, 'date': '4 bulan lalu', 'snippet': ''}, {'user': {'name': 'Ahmad Attamimi', 'link': 'https://www.google.com/maps/contrib/103662678485154782906?hl=id-US&sa=X&ved=2ahUKEwjowOXWvsbzAhWT6p4KHb3CDYoQvvQBegQIARB3', 'thumbnail': 'https://lh3.googleusercontent.com/a/AATXAJy1QDOhpbtHFmkDT1-3FdfwuLiOumeTWidbXTO8=s40-c-c0x00000000-cc-rp-mo-br100', 'reviews': 2}, 'rating': 1.0, 'date': '4 bulan lalu', 'snippet': 'halo yg terhomat kantor pos besar lapangan banteng kapan sim c saya datang sudah dua bulan belum juga di kirim .bsk pagi saya mau ke sana', 'likes': 3}, {'user': {'name': 'Donny Hariawan', 'link': 'https://www.google.com/maps/contrib/107612695827325310437?hl=id-US&sa=X&ved=2ahUKEwjowOXWvsbzAhWT6p4KHb3CDYoQvvQBegUIARCCAQ', 'thumbnail': 'https://lh3.googleusercontent.com/a/AATXAJzcIO8GHLVasrqwv3hJG5GV2fNGiMExsE9xzaer=s40-c-c0x00000000-cc-rp-mo-br100', 'reviews': 1}, 'rating': 1.0, 'date': '4 bulan lalu', 'snippet': 'E-tilang yang tidak memuaskan ( buruk )Menyusahkan masyarakatMemperlambat dan menghilangkan rejeki orangSaya butuh SIM c itu buat kerja nafkahin anak bini', 'likes': 3}, {'user': {'name': 'Putra Zulwiyoza', 'link': 'https://www.google.com/maps/contrib/109453926352196016572?hl=id-US&sa=X&ved=2ahUKEwjowOXWvsbzAhWT6p4KHb3CDYoQvvQBegUIARCNAQ', 'thumbnail': 'https://lh3.googleusercontent.com/a-/AOh14GhZy8K1Bn22dUVlnLDNq0bX0-3PxvQkmlaUtrj_7XM=s40-c-c0x00000000-cc-rp-mo-ba4-br100', 'local_guide': True, 'reviews': 75, 'photos': 214}, 'rating': 1.0, 'date': '4 bulan lalu', 'snippet': ''}], 'serpapi_pagination': {'next': 'https://serpapi.com/search.json?data_id=0x2e69f5cf57f221d7%3A0x312d7e4c1ca898e0&engine=google_maps_reviews&hl=id&next_page_token=EgIIKA&sort_by=newestFirst', 'next_page_token': 'EgIIKA'}}\n"
     ]
    }
   ],
   "source": [
    "print(results3)"
   ],
   "metadata": {
    "collapsed": false,
    "pycharm": {
     "name": "#%%\n"
    }
   }
  },
  {
   "cell_type": "code",
   "execution_count": 43,
   "outputs": [
    {
     "data": {
      "text/plain": "                                                 user  rating           date  \\\n0   {'name': 'Oki Channel', 'link': 'https://www.g...     4.0    1 hari lalu   \n1   {'name': 'Whys Ramandharu', 'link': 'https://w...     4.0  seminggu lalu   \n2   {'name': 'Ade Nur', 'link': 'https://www.googl...     1.0  3 minggu lalu   \n3   {'name': 'Sugeng Supriyanto (Sugeng)', 'link':...     5.0  3 minggu lalu   \n4   {'name': 'Sam Puspa', 'link': 'https://www.goo...     1.0   sebulan lalu   \n5   {'name': 'Kelvin', 'link': 'https://www.google...     1.0   sebulan lalu   \n6   {'name': 'DRL', 'link': 'https://www.google.co...     1.0   sebulan lalu   \n7   {'name': 'Joko Waluyo', 'link': 'https://www.g...     1.0   sebulan lalu   \n8   {'name': 'Sony Sony', 'link': 'https://www.goo...     1.0   sebulan lalu   \n9   {'name': 'Ari offsial', 'link': 'https://www.g...     2.0   sebulan lalu   \n10  {'name': 'rizky septian', 'link': 'https://www...     1.0   sebulan lalu   \n11  {'name': 'Alfred Gunawan', 'link': 'https://ww...     1.0   sebulan lalu   \n12  {'name': 'Datu Story', 'link': 'https://www.go...     1.0   2 bulan lalu   \n13  {'name': 'Agus Safaat channel', 'link': 'https...     2.0   2 bulan lalu   \n14  {'name': 'ivan Sss', 'link': 'https://www.goog...     1.0   2 bulan lalu   \n15  {'name': 'Ali Ridho', 'link': 'https://www.goo...     1.0   2 bulan lalu   \n16  {'name': 'aprina djatmiko', 'link': 'https://w...     1.0   2 bulan lalu   \n17  {'name': 'Kileon Fox', 'link': 'https://www.go...     1.0   2 bulan lalu   \n18  {'name': 'Rhoma Minandar', 'link': 'https://ww...     1.0   2 bulan lalu   \n19  {'name': 'Cerita Dina', 'link': 'https://www.g...     2.0   2 bulan lalu   \n20  {'name': 'Mohammad Afif', 'link': 'https://www...     1.0   3 bulan lalu   \n21  {'name': 'Darin Rf', 'link': 'https://www.goog...     1.0   3 bulan lalu   \n22  {'name': 'Richard', 'link': 'https://www.googl...     1.0   3 bulan lalu   \n23  {'name': 'Zena Zena', 'link': 'https://www.goo...     5.0   3 bulan lalu   \n24  {'name': 'muhammad barli fadly', 'link': 'http...     2.0   3 bulan lalu   \n25  {'name': 'Mustofa Kamil', 'link': 'https://www...     5.0   3 bulan lalu   \n26  {'name': 'Debby Lestari', 'link': 'https://www...     1.0   3 bulan lalu   \n27  {'name': 'Rudianto Winardi', 'link': 'https://...     1.0   3 bulan lalu   \n28  {'name': 'isa alzobidi', 'link': 'https://www....     1.0   3 bulan lalu   \n29  {'name': 'Choirul Anwar', 'link': 'https://www...     1.0   3 bulan lalu   \n30  {'name': 'Yusuf Agil', 'link': 'https://www.go...     5.0   4 bulan lalu   \n31  {'name': 'M Rizqi Ramadhan', 'link': 'https://...     1.0   4 bulan lalu   \n32  {'name': 'herman b_1', 'link': 'https://www.go...     4.0   4 bulan lalu   \n33  {'name': 'annang s', 'link': 'https://www.goog...     1.0   4 bulan lalu   \n34  {'name': 'dwi Bhekti', 'link': 'https://www.go...     4.0   4 bulan lalu   \n35  {'name': 'Agus Setiawan', 'link': 'https://www...     1.0   4 bulan lalu   \n36  {'name': 'Agus Firmansyah', 'link': 'https://w...     1.0   4 bulan lalu   \n37  {'name': 'Ahmad Attamimi', 'link': 'https://ww...     1.0   4 bulan lalu   \n38  {'name': 'Donny Hariawan', 'link': 'https://ww...     1.0   4 bulan lalu   \n39  {'name': 'Putra Zulwiyoza', 'link': 'https://w...     1.0   4 bulan lalu   \n\n                                              snippet  likes  \\\n0   Udh di gedung pos besar eh di alihkan lg kesin...    NaN   \n1   Saya sangat nyaman di Kantor Pos Besar PT Pos ...    NaN   \n2   Parah pelayanan nya lama bngt, udh gitu masih ...    NaN   \n3                                                        NaN   \n4   Pungutan Liar di tempat parkir, Parkir bayar 2...    NaN   \n5                              Parah bgt service nya.    NaN   \n6   Dokumen STNK dari Samsat lama sekali ga dikiri...    2.0   \n7   Pertama kali pake layanan pos. Ambil stnk samp...    NaN   \n8   Tilngan 7 bulan blm datengPada kerja apa nongk...    NaN   \n9   sim.belum.di kirim 2 ya padahal udah lama bner...    NaN   \n10  Kalau bisa kasih nilai minus 5, akan dengan se...    1.0   \n11  Kalau bukan BUMN udah bangkrut ini. Pelayanann...    3.0   \n12  Layanan tlpnya sungguh sangat mengecewakan.. m...    NaN   \n13  Saya disabilitas tdk di prioritas kan ke parki...    1.0   \n14  Customer service yg sangat buruk. Telp pun sel...    NaN   \n15  6 MINGGU GA SAMPE\"UDAH BAYAR ONGKIRTETEP AJA A...    1.0   \n16  Pelayanan payah . 2 kali urus tilangan sudah b...    4.0   \n17  Barang tidak pernah sampai, Ngakunya alamat ti...    1.0   \n18                               SISTEM HARUS DIRUBAH    7.0   \n19  (Diterjemahkan oleh Google) Dalam masa pandemi...    1.0   \n20  Sistem bobrok amburadul wajar lah kalah sama s...    1.0   \n21                                                       NaN   \n22  Bikin malu negara. Dari masuk aja karcis parki...    2.0   \n23  Tempat yang nyaman,untuk pengiriman barang ke ...    NaN   \n24  Pengalaman membayar E-Tilang di Kantor Pos Lap...    7.0   \n25                                                       NaN   \n26  kerja nya lelet, disuruh bayar denda tilangan,...    NaN   \n27  Petugas loket tak ramah padahal masih pagi, ke...    NaN   \n28                                                       NaN   \n29  Buruk sekali pelayanannya.,,,parahhhh,,!!!!!!!...    NaN   \n30  (Diterjemahkan oleh Google) Kualitas Profesion...    NaN   \n31                                                       NaN   \n32                           Gedung pos yg bersejarah    NaN   \n33  Parah, telepon jam 07.32 pagi, diangkat langsu...    1.0   \n34  Mbayar tilang di kantor pos besar... datanglah...    NaN   \n35  SIM nya di apain dulu sih di sana ko ngirim ny...    1.0   \n36                                                       NaN   \n37  halo yg terhomat kantor pos besar lapangan ban...    3.0   \n38  E-tilang yang tidak memuaskan ( buruk )Menyusa...    3.0   \n39                                                       NaN   \n\n                                               images  \n0                                                 NaN  \n1                                                 NaN  \n2                                                 NaN  \n3                                                 NaN  \n4                                                 NaN  \n5                                                 NaN  \n6                                                 NaN  \n7                                                 NaN  \n8                                                 NaN  \n9                                                 NaN  \n10                                                NaN  \n11                                                NaN  \n12                                                NaN  \n13                                                NaN  \n14                                                NaN  \n15                                                NaN  \n16                                                NaN  \n17                                                NaN  \n18  [https://lh5.googleusercontent.com/p/AF1QipOFZ...  \n19                                                NaN  \n20                                                NaN  \n21                                                NaN  \n22                                                NaN  \n23  [https://lh5.googleusercontent.com/p/AF1QipNGL...  \n24  [https://lh5.googleusercontent.com/p/AF1QipPd3...  \n25                                                NaN  \n26                                                NaN  \n27                                                NaN  \n28                                                NaN  \n29                                                NaN  \n30                                                NaN  \n31                                                NaN  \n32  [https://lh5.googleusercontent.com/p/AF1QipM_t...  \n33                                                NaN  \n34                                                NaN  \n35                                                NaN  \n36                                                NaN  \n37                                                NaN  \n38                                                NaN  \n39                                                NaN  ",
      "text/html": "<div>\n<style scoped>\n    .dataframe tbody tr th:only-of-type {\n        vertical-align: middle;\n    }\n\n    .dataframe tbody tr th {\n        vertical-align: top;\n    }\n\n    .dataframe thead th {\n        text-align: right;\n    }\n</style>\n<table border=\"1\" class=\"dataframe\">\n  <thead>\n    <tr style=\"text-align: right;\">\n      <th></th>\n      <th>user</th>\n      <th>rating</th>\n      <th>date</th>\n      <th>snippet</th>\n      <th>likes</th>\n      <th>images</th>\n    </tr>\n  </thead>\n  <tbody>\n    <tr>\n      <th>0</th>\n      <td>{'name': 'Oki Channel', 'link': 'https://www.g...</td>\n      <td>4.0</td>\n      <td>1 hari lalu</td>\n      <td>Udh di gedung pos besar eh di alihkan lg kesin...</td>\n      <td>NaN</td>\n      <td>NaN</td>\n    </tr>\n    <tr>\n      <th>1</th>\n      <td>{'name': 'Whys Ramandharu', 'link': 'https://w...</td>\n      <td>4.0</td>\n      <td>seminggu lalu</td>\n      <td>Saya sangat nyaman di Kantor Pos Besar PT Pos ...</td>\n      <td>NaN</td>\n      <td>NaN</td>\n    </tr>\n    <tr>\n      <th>2</th>\n      <td>{'name': 'Ade Nur', 'link': 'https://www.googl...</td>\n      <td>1.0</td>\n      <td>3 minggu lalu</td>\n      <td>Parah pelayanan nya lama bngt, udh gitu masih ...</td>\n      <td>NaN</td>\n      <td>NaN</td>\n    </tr>\n    <tr>\n      <th>3</th>\n      <td>{'name': 'Sugeng Supriyanto (Sugeng)', 'link':...</td>\n      <td>5.0</td>\n      <td>3 minggu lalu</td>\n      <td></td>\n      <td>NaN</td>\n      <td>NaN</td>\n    </tr>\n    <tr>\n      <th>4</th>\n      <td>{'name': 'Sam Puspa', 'link': 'https://www.goo...</td>\n      <td>1.0</td>\n      <td>sebulan lalu</td>\n      <td>Pungutan Liar di tempat parkir, Parkir bayar 2...</td>\n      <td>NaN</td>\n      <td>NaN</td>\n    </tr>\n    <tr>\n      <th>5</th>\n      <td>{'name': 'Kelvin', 'link': 'https://www.google...</td>\n      <td>1.0</td>\n      <td>sebulan lalu</td>\n      <td>Parah bgt service nya.</td>\n      <td>NaN</td>\n      <td>NaN</td>\n    </tr>\n    <tr>\n      <th>6</th>\n      <td>{'name': 'DRL', 'link': 'https://www.google.co...</td>\n      <td>1.0</td>\n      <td>sebulan lalu</td>\n      <td>Dokumen STNK dari Samsat lama sekali ga dikiri...</td>\n      <td>2.0</td>\n      <td>NaN</td>\n    </tr>\n    <tr>\n      <th>7</th>\n      <td>{'name': 'Joko Waluyo', 'link': 'https://www.g...</td>\n      <td>1.0</td>\n      <td>sebulan lalu</td>\n      <td>Pertama kali pake layanan pos. Ambil stnk samp...</td>\n      <td>NaN</td>\n      <td>NaN</td>\n    </tr>\n    <tr>\n      <th>8</th>\n      <td>{'name': 'Sony Sony', 'link': 'https://www.goo...</td>\n      <td>1.0</td>\n      <td>sebulan lalu</td>\n      <td>Tilngan 7 bulan blm datengPada kerja apa nongk...</td>\n      <td>NaN</td>\n      <td>NaN</td>\n    </tr>\n    <tr>\n      <th>9</th>\n      <td>{'name': 'Ari offsial', 'link': 'https://www.g...</td>\n      <td>2.0</td>\n      <td>sebulan lalu</td>\n      <td>sim.belum.di kirim 2 ya padahal udah lama bner...</td>\n      <td>NaN</td>\n      <td>NaN</td>\n    </tr>\n    <tr>\n      <th>10</th>\n      <td>{'name': 'rizky septian', 'link': 'https://www...</td>\n      <td>1.0</td>\n      <td>sebulan lalu</td>\n      <td>Kalau bisa kasih nilai minus 5, akan dengan se...</td>\n      <td>1.0</td>\n      <td>NaN</td>\n    </tr>\n    <tr>\n      <th>11</th>\n      <td>{'name': 'Alfred Gunawan', 'link': 'https://ww...</td>\n      <td>1.0</td>\n      <td>sebulan lalu</td>\n      <td>Kalau bukan BUMN udah bangkrut ini. Pelayanann...</td>\n      <td>3.0</td>\n      <td>NaN</td>\n    </tr>\n    <tr>\n      <th>12</th>\n      <td>{'name': 'Datu Story', 'link': 'https://www.go...</td>\n      <td>1.0</td>\n      <td>2 bulan lalu</td>\n      <td>Layanan tlpnya sungguh sangat mengecewakan.. m...</td>\n      <td>NaN</td>\n      <td>NaN</td>\n    </tr>\n    <tr>\n      <th>13</th>\n      <td>{'name': 'Agus Safaat channel', 'link': 'https...</td>\n      <td>2.0</td>\n      <td>2 bulan lalu</td>\n      <td>Saya disabilitas tdk di prioritas kan ke parki...</td>\n      <td>1.0</td>\n      <td>NaN</td>\n    </tr>\n    <tr>\n      <th>14</th>\n      <td>{'name': 'ivan Sss', 'link': 'https://www.goog...</td>\n      <td>1.0</td>\n      <td>2 bulan lalu</td>\n      <td>Customer service yg sangat buruk. Telp pun sel...</td>\n      <td>NaN</td>\n      <td>NaN</td>\n    </tr>\n    <tr>\n      <th>15</th>\n      <td>{'name': 'Ali Ridho', 'link': 'https://www.goo...</td>\n      <td>1.0</td>\n      <td>2 bulan lalu</td>\n      <td>6 MINGGU GA SAMPE\"UDAH BAYAR ONGKIRTETEP AJA A...</td>\n      <td>1.0</td>\n      <td>NaN</td>\n    </tr>\n    <tr>\n      <th>16</th>\n      <td>{'name': 'aprina djatmiko', 'link': 'https://w...</td>\n      <td>1.0</td>\n      <td>2 bulan lalu</td>\n      <td>Pelayanan payah . 2 kali urus tilangan sudah b...</td>\n      <td>4.0</td>\n      <td>NaN</td>\n    </tr>\n    <tr>\n      <th>17</th>\n      <td>{'name': 'Kileon Fox', 'link': 'https://www.go...</td>\n      <td>1.0</td>\n      <td>2 bulan lalu</td>\n      <td>Barang tidak pernah sampai, Ngakunya alamat ti...</td>\n      <td>1.0</td>\n      <td>NaN</td>\n    </tr>\n    <tr>\n      <th>18</th>\n      <td>{'name': 'Rhoma Minandar', 'link': 'https://ww...</td>\n      <td>1.0</td>\n      <td>2 bulan lalu</td>\n      <td>SISTEM HARUS DIRUBAH</td>\n      <td>7.0</td>\n      <td>[https://lh5.googleusercontent.com/p/AF1QipOFZ...</td>\n    </tr>\n    <tr>\n      <th>19</th>\n      <td>{'name': 'Cerita Dina', 'link': 'https://www.g...</td>\n      <td>2.0</td>\n      <td>2 bulan lalu</td>\n      <td>(Diterjemahkan oleh Google) Dalam masa pandemi...</td>\n      <td>1.0</td>\n      <td>NaN</td>\n    </tr>\n    <tr>\n      <th>20</th>\n      <td>{'name': 'Mohammad Afif', 'link': 'https://www...</td>\n      <td>1.0</td>\n      <td>3 bulan lalu</td>\n      <td>Sistem bobrok amburadul wajar lah kalah sama s...</td>\n      <td>1.0</td>\n      <td>NaN</td>\n    </tr>\n    <tr>\n      <th>21</th>\n      <td>{'name': 'Darin Rf', 'link': 'https://www.goog...</td>\n      <td>1.0</td>\n      <td>3 bulan lalu</td>\n      <td></td>\n      <td>NaN</td>\n      <td>NaN</td>\n    </tr>\n    <tr>\n      <th>22</th>\n      <td>{'name': 'Richard', 'link': 'https://www.googl...</td>\n      <td>1.0</td>\n      <td>3 bulan lalu</td>\n      <td>Bikin malu negara. Dari masuk aja karcis parki...</td>\n      <td>2.0</td>\n      <td>NaN</td>\n    </tr>\n    <tr>\n      <th>23</th>\n      <td>{'name': 'Zena Zena', 'link': 'https://www.goo...</td>\n      <td>5.0</td>\n      <td>3 bulan lalu</td>\n      <td>Tempat yang nyaman,untuk pengiriman barang ke ...</td>\n      <td>NaN</td>\n      <td>[https://lh5.googleusercontent.com/p/AF1QipNGL...</td>\n    </tr>\n    <tr>\n      <th>24</th>\n      <td>{'name': 'muhammad barli fadly', 'link': 'http...</td>\n      <td>2.0</td>\n      <td>3 bulan lalu</td>\n      <td>Pengalaman membayar E-Tilang di Kantor Pos Lap...</td>\n      <td>7.0</td>\n      <td>[https://lh5.googleusercontent.com/p/AF1QipPd3...</td>\n    </tr>\n    <tr>\n      <th>25</th>\n      <td>{'name': 'Mustofa Kamil', 'link': 'https://www...</td>\n      <td>5.0</td>\n      <td>3 bulan lalu</td>\n      <td></td>\n      <td>NaN</td>\n      <td>NaN</td>\n    </tr>\n    <tr>\n      <th>26</th>\n      <td>{'name': 'Debby Lestari', 'link': 'https://www...</td>\n      <td>1.0</td>\n      <td>3 bulan lalu</td>\n      <td>kerja nya lelet, disuruh bayar denda tilangan,...</td>\n      <td>NaN</td>\n      <td>NaN</td>\n    </tr>\n    <tr>\n      <th>27</th>\n      <td>{'name': 'Rudianto Winardi', 'link': 'https://...</td>\n      <td>1.0</td>\n      <td>3 bulan lalu</td>\n      <td>Petugas loket tak ramah padahal masih pagi, ke...</td>\n      <td>NaN</td>\n      <td>NaN</td>\n    </tr>\n    <tr>\n      <th>28</th>\n      <td>{'name': 'isa alzobidi', 'link': 'https://www....</td>\n      <td>1.0</td>\n      <td>3 bulan lalu</td>\n      <td></td>\n      <td>NaN</td>\n      <td>NaN</td>\n    </tr>\n    <tr>\n      <th>29</th>\n      <td>{'name': 'Choirul Anwar', 'link': 'https://www...</td>\n      <td>1.0</td>\n      <td>3 bulan lalu</td>\n      <td>Buruk sekali pelayanannya.,,,parahhhh,,!!!!!!!...</td>\n      <td>NaN</td>\n      <td>NaN</td>\n    </tr>\n    <tr>\n      <th>30</th>\n      <td>{'name': 'Yusuf Agil', 'link': 'https://www.go...</td>\n      <td>5.0</td>\n      <td>4 bulan lalu</td>\n      <td>(Diterjemahkan oleh Google) Kualitas Profesion...</td>\n      <td>NaN</td>\n      <td>NaN</td>\n    </tr>\n    <tr>\n      <th>31</th>\n      <td>{'name': 'M Rizqi Ramadhan', 'link': 'https://...</td>\n      <td>1.0</td>\n      <td>4 bulan lalu</td>\n      <td></td>\n      <td>NaN</td>\n      <td>NaN</td>\n    </tr>\n    <tr>\n      <th>32</th>\n      <td>{'name': 'herman b_1', 'link': 'https://www.go...</td>\n      <td>4.0</td>\n      <td>4 bulan lalu</td>\n      <td>Gedung pos yg bersejarah</td>\n      <td>NaN</td>\n      <td>[https://lh5.googleusercontent.com/p/AF1QipM_t...</td>\n    </tr>\n    <tr>\n      <th>33</th>\n      <td>{'name': 'annang s', 'link': 'https://www.goog...</td>\n      <td>1.0</td>\n      <td>4 bulan lalu</td>\n      <td>Parah, telepon jam 07.32 pagi, diangkat langsu...</td>\n      <td>1.0</td>\n      <td>NaN</td>\n    </tr>\n    <tr>\n      <th>34</th>\n      <td>{'name': 'dwi Bhekti', 'link': 'https://www.go...</td>\n      <td>4.0</td>\n      <td>4 bulan lalu</td>\n      <td>Mbayar tilang di kantor pos besar... datanglah...</td>\n      <td>NaN</td>\n      <td>NaN</td>\n    </tr>\n    <tr>\n      <th>35</th>\n      <td>{'name': 'Agus Setiawan', 'link': 'https://www...</td>\n      <td>1.0</td>\n      <td>4 bulan lalu</td>\n      <td>SIM nya di apain dulu sih di sana ko ngirim ny...</td>\n      <td>1.0</td>\n      <td>NaN</td>\n    </tr>\n    <tr>\n      <th>36</th>\n      <td>{'name': 'Agus Firmansyah', 'link': 'https://w...</td>\n      <td>1.0</td>\n      <td>4 bulan lalu</td>\n      <td></td>\n      <td>NaN</td>\n      <td>NaN</td>\n    </tr>\n    <tr>\n      <th>37</th>\n      <td>{'name': 'Ahmad Attamimi', 'link': 'https://ww...</td>\n      <td>1.0</td>\n      <td>4 bulan lalu</td>\n      <td>halo yg terhomat kantor pos besar lapangan ban...</td>\n      <td>3.0</td>\n      <td>NaN</td>\n    </tr>\n    <tr>\n      <th>38</th>\n      <td>{'name': 'Donny Hariawan', 'link': 'https://ww...</td>\n      <td>1.0</td>\n      <td>4 bulan lalu</td>\n      <td>E-tilang yang tidak memuaskan ( buruk )Menyusa...</td>\n      <td>3.0</td>\n      <td>NaN</td>\n    </tr>\n    <tr>\n      <th>39</th>\n      <td>{'name': 'Putra Zulwiyoza', 'link': 'https://w...</td>\n      <td>1.0</td>\n      <td>4 bulan lalu</td>\n      <td></td>\n      <td>NaN</td>\n      <td>NaN</td>\n    </tr>\n  </tbody>\n</table>\n</div>"
     },
     "execution_count": 43,
     "metadata": {},
     "output_type": "execute_result"
    }
   ],
   "source": [
    "new_data = pd.concat([data,data1,data2,data3],ignore_index=True)\n",
    "new_data"
   ],
   "metadata": {
    "collapsed": false,
    "pycharm": {
     "name": "#%%\n"
    }
   }
  },
  {
   "cell_type": "code",
   "execution_count": 44,
   "outputs": [],
   "source": [
    "new_data.to_excel(\"testing pos review 1.xlsx\")\n"
   ],
   "metadata": {
    "collapsed": false,
    "pycharm": {
     "name": "#%%\n"
    }
   }
  }
 ],
 "metadata": {
  "kernelspec": {
   "display_name": "Python 3",
   "language": "python",
   "name": "python3"
  },
  "language_info": {
   "codemirror_mode": {
    "name": "ipython",
    "version": 2
   },
   "file_extension": ".py",
   "mimetype": "text/x-python",
   "name": "python",
   "nbconvert_exporter": "python",
   "pygments_lexer": "ipython2",
   "version": "2.7.6"
  }
 },
 "nbformat": 4,
 "nbformat_minor": 0
}